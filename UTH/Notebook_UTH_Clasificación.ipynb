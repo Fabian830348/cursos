{
 "cells": [
  {
   "cell_type": "markdown",
   "metadata": {
    "id": "gJ4PhbdQ244W"
   },
   "source": [
    "<table>\n",
    "    <tr>\n",
    "        <td><img src=\"https://raw.githubusercontent.com/Fabian830348/Bases_Datos/refs/heads/master/Logo_EICT_horizontal_ESPANOL%20(1).png\" width=\"300\"/></td>\n",
    "        <td>&nbsp;</td>\n",
    "        <td>\n",
    "            <h1 style=\"font-size:200%;color:blue;text-align:center\">    <FONT COLOR=\"blue\"> Ejemplos </p> Aprendizaje Supervisado </FONT>         </h1></td>         \n",
    "        <td>\n",
    "            <tp><p style=\"font-size:99%;text-align:center\">Machine Learning </p></tp>\n",
    "            <tp><p style=\"font-size:115%;text-align:center\">A. Supervisado</p></tp>\n",
    "            <tp><p style=\"font-size:115%;text-align:center\">Prof. Fabián Sánchez</p></tp>\n",
    "        </td>\n",
    "    </tr>\n",
    "</table>"
   ]
  },
  {
   "cell_type": "markdown",
   "metadata": {
    "id": "8ZikK39jnMJC"
   },
   "source": [
    "# <FONT SIZE=5 COLOR=\"purple\"> 1. Ejemplo 1 : Clasificación </FONT>\n",
    "\n",
    "***Objetivo del ejercicio***. Aplicar el modelo de clasificación ***KNN-Reglog-Árboles-Red*** para determinar cuando se aprueba a un cliente una tarjeta de crédito o no, dependiendo de las otras variables.\n",
    "\n",
    "\n",
    "***Contexto de los datos***\n",
    "\n",
    "Este ejercicio se basa en un conjunto de datos que se publicó originalmente junto con la quinta edición del libro *Análisis Econométrico* de William Greene.\n",
    "\n",
    "Este libro tiene datos de tarjetas de crédito que se componen de una variable objetivo que es de naturaleza binaria (1 si se aprueba la solicitud de tarjeta de crédito, 0 si no) y algunas variables independientes sobre la demografía y el historial crediticio de los titulares de tarjetas de crédito.\n",
    "\n",
    "Los datos para este trabajo están en *kaggle* en la siguiente *url*.\n",
    "\n",
    "https://www.kaggle.com/datasets/dansbecker/aer-credit-card-data?select=AER_credit_card_data.csv\n",
    "\n",
    "Sin embargo, se anexan los datos como ***credict3*** y este trabajo se va a desarrollar con esta base.\n",
    "\n",
    "```python\n",
    "url = \"https://raw.githubusercontent.com/Fabian830348/Bases_Datos/master/credit3.csv\"\n",
    "```\n",
    "\n",
    "Cada fila representa una solicitud de tarjeta de crédito, cada columna contiene los atributos del solicitante:\n",
    "\n",
    "- *tarjeta*: variable ficticia, 1 si se aprueba la solicitud de tarjeta de crédito, 0 si no\n",
    "\n",
    "- *informes*: número de informes despectivos importantes.\n",
    "\n",
    "- *edad*: Edad n años más doceavos de un año.\n",
    "\n",
    "- *ingreso*: ingreso anual (dividido por 10,000).\n",
    "\n",
    "- *participación*: relación entre el gasto mensual de la tarjeta de crédito y el ingreso anual.\n",
    "\n",
    "- *gasto*: gasto medio mensual con tarjeta de crédito.\n",
    "\n",
    "- *propietario*: 1 si es dueño de su casa, 0 si alquila.\n",
    "\n",
    "- *selfemp*: 1 si es autónomo, 0 si no.\n",
    "\n",
    "- *dependientes*: 1 + número de dependientes.\n",
    "\n",
    "- *meses*: Meses viviendo en la dirección actual.\n",
    "\n",
    "- *majorcards*: número de las principales tarjetas de crédito que se tienen.\n",
    "\n",
    "- activo: Número de cuentas de crédito activas.\n",
    "\n",
    "Según Greene (2003, p. 952) los dependientes equivalen a 1 + número de dependientes. Eso se describe arriba. Los autores del paquete “AER” en R creen que es el número de dependientes.\n",
    "\n",
    "Algunas precisiones sobre las variables\n",
    "\n",
    "- *Los informes promedio* (es decir, el número promedio de informes despectivos importantes) de los solicitantes que fueron aprobados es menor que el de los solicitantes que no fueron aprobados.\n",
    "\n",
    "- *El ingreso promedio* (es decir, el ingreso anual promedio dividido por 10,000) de los solicitantes que fueron aprobados es más alto que el de los solicitantes que no fueron aprobados.\n",
    "\n",
    "- *La participación promedio* (es decir, la relación promedio entre el gasto mensual de la tarjeta de crédito y el ingreso anual) de los solicitantes que fueron aprobados es más alta que la de los solicitantes que no fueron aprobados.\n",
    "\n",
    "- *El gasto promedio* (es decir, el gasto mensual promedio con tarjeta de crédito) de los solicitantes que fueron aprobados es más alto que el de los solicitantes que no fueron aprobados.\n",
    "\n",
    "- *El promedio de dependientes*(es decir, el número promedio de dependientes) de los solicitantes que fueron aprobados es menor que el de los solicitantes que no fueron aprobados.\n",
    "\n",
    "- *El promedio de tarjetas principales (es decir, el número promedio de las principales tarjetas de crédito) de los solicitantes que fueron aprobados es más alto que el de los solicitantes que no fueron aprobados.\n"
   ]
  },
  {
   "cell_type": "code",
   "execution_count": null,
   "metadata": {},
   "outputs": [],
   "source": [
    "pip install imblearn\n"
   ]
  },
  {
   "cell_type": "markdown",
   "metadata": {
    "id": "_EoA4Y_J7rmh"
   },
   "source": [
    "## <FONT SIZE=5 COLOR=\"blue\"> 1.1 Cargar las librerías de trabajo </FONT>"
   ]
  },
  {
   "cell_type": "code",
   "execution_count": null,
   "metadata": {
    "id": "SR4E68ceBAEB"
   },
   "outputs": [],
   "source": [
    "# Manipulación de data.frames\n",
    "import pandas as pd\n",
    "import numpy as np\n",
    "\n",
    "# Librerías para Gráficos\n",
    "import matplotlib.pyplot as plt\n",
    "import seaborn as sns\n",
    "import plotly.express as px\n",
    "\n",
    "\n",
    "# Librerías para datos de entrenamiento y prueba\n",
    "from sklearn.model_selection    import train_test_split\n",
    "\n",
    "# Para preprocesamiento\n",
    "from sklearn.preprocessing      import StandardScaler, MinMaxScaler\n",
    "from sklearn.preprocessing      import LabelEncoder\n",
    "from sklearn.compose            import ColumnTransformer\n",
    "from sklearn.pipeline           import Pipeline\n",
    "\n",
    "# Para modelos de machine learning\n",
    "from sklearn.neighbors          import KNeighborsClassifier\n",
    "from sklearn.linear_model       import LogisticRegression\n",
    "from sklearn.tree               import DecisionTreeClassifier\n",
    "\n",
    "# Métricas de evaluación\n",
    "from sklearn.metrics            import confusion_matrix, ConfusionMatrixDisplay, classification_report\n",
    "from sklearn.metrics            import accuracy_score, precision_score, recall_score, f1_score\n",
    "from imblearn.metrics           import specificity_score\n",
    "\n",
    "# Optimización de hiperparámetros\n",
    "from sklearn.model_selection    import GridSearchCV\n",
    "# Para ignorar los warnings\n",
    "import warnings\n",
    "warnings.filterwarnings(\"ignore\")"
   ]
  },
  {
   "cell_type": "markdown",
   "metadata": {
    "id": "wBEbG5lPoEWP"
   },
   "source": [
    "## <FONT SIZE=5 COLOR=\"blue\"> 1.2 Carga y exploración rápida de los datos</FONT>\n",
    "\n"
   ]
  },
  {
   "cell_type": "code",
   "execution_count": null,
   "metadata": {
    "id": "DoA2mKYI8BkY"
   },
   "outputs": [],
   "source": [
    "# cargar los datos que están la dirección del github\n",
    "url = \"https://raw.githubusercontent.com/Fabian830348/Bases_Datos/master/credit3.csv\"\n",
    "credit = pd.read_csv(url, na_values=[\" \"])"
   ]
  },
  {
   "cell_type": "markdown",
   "metadata": {
    "id": "x61diTdm8ab9"
   },
   "source": [
    "Nota: la expresión *na_values=[\" \"]* se usa para que python identifique como datos faltantes (not available) espacios en blanco"
   ]
  },
  {
   "cell_type": "markdown",
   "metadata": {
    "id": "LFyf5W_Y8R-x"
   },
   "source": [
    "Exploremos un poco los datos, para identificar problemas"
   ]
  },
  {
   "cell_type": "code",
   "execution_count": 7,
   "metadata": {
    "colab": {
     "base_uri": "https://localhost:8080/",
     "height": 206
    },
    "executionInfo": {
     "elapsed": 27,
     "status": "ok",
     "timestamp": 1752918610668,
     "user": {
      "displayName": "FABIAN SANCHEZ SALAZAR",
      "userId": "15142555099295306735"
     },
     "user_tz": 300
    },
    "id": "ZgbdrobToDv7",
    "outputId": "415f1275-769b-42b5-e10f-8c159314f456"
   },
   "outputs": [
    {
     "data": {
      "text/html": [
       "<div>\n",
       "<style scoped>\n",
       "    .dataframe tbody tr th:only-of-type {\n",
       "        vertical-align: middle;\n",
       "    }\n",
       "\n",
       "    .dataframe tbody tr th {\n",
       "        vertical-align: top;\n",
       "    }\n",
       "\n",
       "    .dataframe thead th {\n",
       "        text-align: right;\n",
       "    }\n",
       "</style>\n",
       "<table border=\"1\" class=\"dataframe\">\n",
       "  <thead>\n",
       "    <tr style=\"text-align: right;\">\n",
       "      <th></th>\n",
       "      <th>card</th>\n",
       "      <th>reports</th>\n",
       "      <th>age</th>\n",
       "      <th>income</th>\n",
       "      <th>share</th>\n",
       "      <th>expenditure</th>\n",
       "      <th>owner</th>\n",
       "      <th>selfemp</th>\n",
       "      <th>dependents</th>\n",
       "      <th>months</th>\n",
       "      <th>majorcards</th>\n",
       "      <th>active</th>\n",
       "    </tr>\n",
       "  </thead>\n",
       "  <tbody>\n",
       "    <tr>\n",
       "      <th>0</th>\n",
       "      <td>yes</td>\n",
       "      <td>0</td>\n",
       "      <td>37.66667</td>\n",
       "      <td>4.5200</td>\n",
       "      <td>0.033270</td>\n",
       "      <td>124.983300</td>\n",
       "      <td>yes</td>\n",
       "      <td>no</td>\n",
       "      <td>3</td>\n",
       "      <td>54</td>\n",
       "      <td>1</td>\n",
       "      <td>12</td>\n",
       "    </tr>\n",
       "    <tr>\n",
       "      <th>1</th>\n",
       "      <td>yes</td>\n",
       "      <td>0</td>\n",
       "      <td>33.25000</td>\n",
       "      <td>2.4200</td>\n",
       "      <td>0.005217</td>\n",
       "      <td>9.854167</td>\n",
       "      <td>no</td>\n",
       "      <td>no</td>\n",
       "      <td>3</td>\n",
       "      <td>34</td>\n",
       "      <td>1</td>\n",
       "      <td>13</td>\n",
       "    </tr>\n",
       "    <tr>\n",
       "      <th>2</th>\n",
       "      <td>yes</td>\n",
       "      <td>0</td>\n",
       "      <td>33.66667</td>\n",
       "      <td>4.5000</td>\n",
       "      <td>0.004156</td>\n",
       "      <td>15.000000</td>\n",
       "      <td>yes</td>\n",
       "      <td>no</td>\n",
       "      <td>4</td>\n",
       "      <td>58</td>\n",
       "      <td>1</td>\n",
       "      <td>5</td>\n",
       "    </tr>\n",
       "    <tr>\n",
       "      <th>3</th>\n",
       "      <td>yes</td>\n",
       "      <td>0</td>\n",
       "      <td>30.50000</td>\n",
       "      <td>2.5400</td>\n",
       "      <td>0.065214</td>\n",
       "      <td>137.869200</td>\n",
       "      <td>no</td>\n",
       "      <td>no</td>\n",
       "      <td>0</td>\n",
       "      <td>25</td>\n",
       "      <td>1</td>\n",
       "      <td>7</td>\n",
       "    </tr>\n",
       "    <tr>\n",
       "      <th>4</th>\n",
       "      <td>yes</td>\n",
       "      <td>0</td>\n",
       "      <td>32.16667</td>\n",
       "      <td>9.7867</td>\n",
       "      <td>0.067051</td>\n",
       "      <td>546.503300</td>\n",
       "      <td>yes</td>\n",
       "      <td>no</td>\n",
       "      <td>2</td>\n",
       "      <td>64</td>\n",
       "      <td>1</td>\n",
       "      <td>5</td>\n",
       "    </tr>\n",
       "  </tbody>\n",
       "</table>\n",
       "</div>"
      ],
      "text/plain": [
       "  card  reports       age  income     share  expenditure owner selfemp  \\\n",
       "0  yes        0  37.66667  4.5200  0.033270   124.983300   yes      no   \n",
       "1  yes        0  33.25000  2.4200  0.005217     9.854167    no      no   \n",
       "2  yes        0  33.66667  4.5000  0.004156    15.000000   yes      no   \n",
       "3  yes        0  30.50000  2.5400  0.065214   137.869200    no      no   \n",
       "4  yes        0  32.16667  9.7867  0.067051   546.503300   yes      no   \n",
       "\n",
       "   dependents months  majorcards  active  \n",
       "0           3     54           1      12  \n",
       "1           3     34           1      13  \n",
       "2           4     58           1       5  \n",
       "3           0     25           1       7  \n",
       "4           2     64           1       5  "
      ]
     },
     "execution_count": 7,
     "metadata": {},
     "output_type": "execute_result"
    }
   ],
   "source": [
    "# Ver las primeras filas\n",
    "credit.head()"
   ]
  },
  {
   "cell_type": "code",
   "execution_count": 8,
   "metadata": {
    "colab": {
     "base_uri": "https://localhost:8080/",
     "height": 206
    },
    "executionInfo": {
     "elapsed": 36,
     "status": "ok",
     "timestamp": 1752918612419,
     "user": {
      "displayName": "FABIAN SANCHEZ SALAZAR",
      "userId": "15142555099295306735"
     },
     "user_tz": 300
    },
    "id": "M9NGltUR8rwG",
    "outputId": "1f22932a-2158-4a11-9e50-c4d365d449a3"
   },
   "outputs": [
    {
     "data": {
      "text/html": [
       "<div>\n",
       "<style scoped>\n",
       "    .dataframe tbody tr th:only-of-type {\n",
       "        vertical-align: middle;\n",
       "    }\n",
       "\n",
       "    .dataframe tbody tr th {\n",
       "        vertical-align: top;\n",
       "    }\n",
       "\n",
       "    .dataframe thead th {\n",
       "        text-align: right;\n",
       "    }\n",
       "</style>\n",
       "<table border=\"1\" class=\"dataframe\">\n",
       "  <thead>\n",
       "    <tr style=\"text-align: right;\">\n",
       "      <th></th>\n",
       "      <th>card</th>\n",
       "      <th>reports</th>\n",
       "      <th>age</th>\n",
       "      <th>income</th>\n",
       "      <th>share</th>\n",
       "      <th>expenditure</th>\n",
       "      <th>owner</th>\n",
       "      <th>selfemp</th>\n",
       "      <th>dependents</th>\n",
       "      <th>months</th>\n",
       "      <th>majorcards</th>\n",
       "      <th>active</th>\n",
       "    </tr>\n",
       "  </thead>\n",
       "  <tbody>\n",
       "    <tr>\n",
       "      <th>1314</th>\n",
       "      <td>yes</td>\n",
       "      <td>0</td>\n",
       "      <td>33.58333</td>\n",
       "      <td>4.566</td>\n",
       "      <td>0.002146</td>\n",
       "      <td>7.333333</td>\n",
       "      <td>yes</td>\n",
       "      <td>no</td>\n",
       "      <td>0</td>\n",
       "      <td>94</td>\n",
       "      <td>1</td>\n",
       "      <td>19</td>\n",
       "    </tr>\n",
       "    <tr>\n",
       "      <th>1315</th>\n",
       "      <td>no</td>\n",
       "      <td>5</td>\n",
       "      <td>23.91667</td>\n",
       "      <td>3.192</td>\n",
       "      <td>0.000376</td>\n",
       "      <td>0.000000</td>\n",
       "      <td>no</td>\n",
       "      <td>no</td>\n",
       "      <td>3</td>\n",
       "      <td>12</td>\n",
       "      <td>1</td>\n",
       "      <td>5</td>\n",
       "    </tr>\n",
       "    <tr>\n",
       "      <th>1316</th>\n",
       "      <td>yes</td>\n",
       "      <td>0</td>\n",
       "      <td>40.58333</td>\n",
       "      <td>4.600</td>\n",
       "      <td>0.026513</td>\n",
       "      <td>101.298300</td>\n",
       "      <td>yes</td>\n",
       "      <td>no</td>\n",
       "      <td>2</td>\n",
       "      <td>1</td>\n",
       "      <td>1</td>\n",
       "      <td>2</td>\n",
       "    </tr>\n",
       "    <tr>\n",
       "      <th>1317</th>\n",
       "      <td>yes</td>\n",
       "      <td>0</td>\n",
       "      <td>32.83333</td>\n",
       "      <td>3.700</td>\n",
       "      <td>0.008999</td>\n",
       "      <td>26.996670</td>\n",
       "      <td>no</td>\n",
       "      <td>yes</td>\n",
       "      <td>0</td>\n",
       "      <td>60</td>\n",
       "      <td>1</td>\n",
       "      <td>7</td>\n",
       "    </tr>\n",
       "    <tr>\n",
       "      <th>1318</th>\n",
       "      <td>yes</td>\n",
       "      <td>0</td>\n",
       "      <td>48.25000</td>\n",
       "      <td>3.700</td>\n",
       "      <td>0.111619</td>\n",
       "      <td>344.157500</td>\n",
       "      <td>yes</td>\n",
       "      <td>no</td>\n",
       "      <td>2</td>\n",
       "      <td>2</td>\n",
       "      <td>1</td>\n",
       "      <td>0</td>\n",
       "    </tr>\n",
       "  </tbody>\n",
       "</table>\n",
       "</div>"
      ],
      "text/plain": [
       "     card  reports       age  income     share  expenditure owner selfemp  \\\n",
       "1314  yes        0  33.58333   4.566  0.002146     7.333333   yes      no   \n",
       "1315   no        5  23.91667   3.192  0.000376     0.000000    no      no   \n",
       "1316  yes        0  40.58333   4.600  0.026513   101.298300   yes      no   \n",
       "1317  yes        0  32.83333   3.700  0.008999    26.996670    no     yes   \n",
       "1318  yes        0  48.25000   3.700  0.111619   344.157500   yes      no   \n",
       "\n",
       "      dependents months  majorcards  active  \n",
       "1314           0     94           1      19  \n",
       "1315           3     12           1       5  \n",
       "1316           2      1           1       2  \n",
       "1317           0     60           1       7  \n",
       "1318           2      2           1       0  "
      ]
     },
     "execution_count": 8,
     "metadata": {},
     "output_type": "execute_result"
    }
   ],
   "source": [
    "# ver las últimas filas\n",
    "credit.tail()"
   ]
  },
  {
   "cell_type": "code",
   "execution_count": 10,
   "metadata": {
    "colab": {
     "base_uri": "https://localhost:8080/"
    },
    "executionInfo": {
     "elapsed": 4,
     "status": "ok",
     "timestamp": 1752918614092,
     "user": {
      "displayName": "FABIAN SANCHEZ SALAZAR",
      "userId": "15142555099295306735"
     },
     "user_tz": 300
    },
    "id": "WH83h-Rt8xgu",
    "outputId": "52832413-3168-4cb9-ae3c-44ee02b99a27"
   },
   "outputs": [
    {
     "data": {
      "text/plain": [
       "Index(['card', 'reports', 'age', 'income', 'share', 'expenditure', 'owner',\n",
       "       'selfemp', 'dependents', 'months', 'majorcards', 'active'],\n",
       "      dtype='object')"
      ]
     },
     "execution_count": 10,
     "metadata": {},
     "output_type": "execute_result"
    }
   ],
   "source": [
    "# nombre de las variables\n",
    "credit.columns"
   ]
  },
  {
   "cell_type": "code",
   "execution_count": 11,
   "metadata": {
    "colab": {
     "base_uri": "https://localhost:8080/"
    },
    "executionInfo": {
     "elapsed": 4,
     "status": "ok",
     "timestamp": 1752918615570,
     "user": {
      "displayName": "FABIAN SANCHEZ SALAZAR",
      "userId": "15142555099295306735"
     },
     "user_tz": 300
    },
    "id": "hSy3ZqLS81lG",
    "outputId": "1fde5b13-d8ad-426d-b049-b9b2284e894e"
   },
   "outputs": [
    {
     "data": {
      "text/plain": [
       "(1319, 12)"
      ]
     },
     "execution_count": 11,
     "metadata": {},
     "output_type": "execute_result"
    }
   ],
   "source": [
    "# tamaño de los datos\n",
    "credit.shape"
   ]
  },
  {
   "cell_type": "code",
   "execution_count": 12,
   "metadata": {
    "colab": {
     "base_uri": "https://localhost:8080/"
    },
    "executionInfo": {
     "elapsed": 15,
     "status": "ok",
     "timestamp": 1752918616703,
     "user": {
      "displayName": "FABIAN SANCHEZ SALAZAR",
      "userId": "15142555099295306735"
     },
     "user_tz": 300
    },
    "id": "EQz4LW7JuWkU",
    "outputId": "f02c5414-398b-47fe-c546-aacfd7d8edbe"
   },
   "outputs": [
    {
     "name": "stdout",
     "output_type": "stream",
     "text": [
      "<class 'pandas.core.frame.DataFrame'>\n",
      "RangeIndex: 1319 entries, 0 to 1318\n",
      "Data columns (total 12 columns):\n",
      " #   Column       Non-Null Count  Dtype  \n",
      "---  ------       --------------  -----  \n",
      " 0   card         1319 non-null   object \n",
      " 1   reports      1319 non-null   int64  \n",
      " 2   age          1317 non-null   float64\n",
      " 3   income       1319 non-null   float64\n",
      " 4   share        1319 non-null   float64\n",
      " 5   expenditure  1319 non-null   float64\n",
      " 6   owner        1319 non-null   object \n",
      " 7   selfemp      1319 non-null   object \n",
      " 8   dependents   1319 non-null   int64  \n",
      " 9   months       1319 non-null   object \n",
      " 10  majorcards   1319 non-null   int64  \n",
      " 11  active       1319 non-null   int64  \n",
      "dtypes: float64(4), int64(4), object(4)\n",
      "memory usage: 123.8+ KB\n"
     ]
    }
   ],
   "source": [
    "# información de las variables\n",
    "credit.info()"
   ]
  },
  {
   "cell_type": "markdown",
   "metadata": {
    "id": "xqGsRuVDF4_f"
   },
   "source": [
    "Se observa que:\n",
    "- Algunas variables son tipo object\n",
    "\n",
    "- La variable *age* tiene dos datos menos\n",
    "\n",
    "- La variable *months* no está bien cargada"
   ]
  },
  {
   "cell_type": "code",
   "execution_count": 13,
   "metadata": {
    "colab": {
     "base_uri": "https://localhost:8080/",
     "height": 300
    },
    "executionInfo": {
     "elapsed": 38,
     "status": "ok",
     "timestamp": 1752918683094,
     "user": {
      "displayName": "FABIAN SANCHEZ SALAZAR",
      "userId": "15142555099295306735"
     },
     "user_tz": 300
    },
    "id": "KKfcJefO9xs-",
    "outputId": "850e75c9-501d-432c-9097-269432c850da"
   },
   "outputs": [
    {
     "data": {
      "text/html": [
       "<div>\n",
       "<style scoped>\n",
       "    .dataframe tbody tr th:only-of-type {\n",
       "        vertical-align: middle;\n",
       "    }\n",
       "\n",
       "    .dataframe tbody tr th {\n",
       "        vertical-align: top;\n",
       "    }\n",
       "\n",
       "    .dataframe thead th {\n",
       "        text-align: right;\n",
       "    }\n",
       "</style>\n",
       "<table border=\"1\" class=\"dataframe\">\n",
       "  <thead>\n",
       "    <tr style=\"text-align: right;\">\n",
       "      <th></th>\n",
       "      <th>reports</th>\n",
       "      <th>age</th>\n",
       "      <th>income</th>\n",
       "      <th>share</th>\n",
       "      <th>expenditure</th>\n",
       "      <th>dependents</th>\n",
       "      <th>majorcards</th>\n",
       "      <th>active</th>\n",
       "    </tr>\n",
       "  </thead>\n",
       "  <tbody>\n",
       "    <tr>\n",
       "      <th>count</th>\n",
       "      <td>1319.000000</td>\n",
       "      <td>1317.000000</td>\n",
       "      <td>1319.000000</td>\n",
       "      <td>1319.000000</td>\n",
       "      <td>1319.000000</td>\n",
       "      <td>1319.000000</td>\n",
       "      <td>1319.000000</td>\n",
       "      <td>1319.000000</td>\n",
       "    </tr>\n",
       "    <tr>\n",
       "      <th>mean</th>\n",
       "      <td>0.456406</td>\n",
       "      <td>33.200392</td>\n",
       "      <td>3.365376</td>\n",
       "      <td>0.068732</td>\n",
       "      <td>185.057071</td>\n",
       "      <td>0.993935</td>\n",
       "      <td>0.817286</td>\n",
       "      <td>6.996967</td>\n",
       "    </tr>\n",
       "    <tr>\n",
       "      <th>std</th>\n",
       "      <td>1.345267</td>\n",
       "      <td>10.145220</td>\n",
       "      <td>1.693902</td>\n",
       "      <td>0.094656</td>\n",
       "      <td>272.218917</td>\n",
       "      <td>1.247745</td>\n",
       "      <td>0.386579</td>\n",
       "      <td>6.305812</td>\n",
       "    </tr>\n",
       "    <tr>\n",
       "      <th>min</th>\n",
       "      <td>0.000000</td>\n",
       "      <td>0.166667</td>\n",
       "      <td>0.210000</td>\n",
       "      <td>0.000109</td>\n",
       "      <td>0.000000</td>\n",
       "      <td>0.000000</td>\n",
       "      <td>0.000000</td>\n",
       "      <td>0.000000</td>\n",
       "    </tr>\n",
       "    <tr>\n",
       "      <th>25%</th>\n",
       "      <td>0.000000</td>\n",
       "      <td>25.416670</td>\n",
       "      <td>2.243750</td>\n",
       "      <td>0.002316</td>\n",
       "      <td>4.583333</td>\n",
       "      <td>0.000000</td>\n",
       "      <td>1.000000</td>\n",
       "      <td>2.000000</td>\n",
       "    </tr>\n",
       "    <tr>\n",
       "      <th>50%</th>\n",
       "      <td>0.000000</td>\n",
       "      <td>31.250000</td>\n",
       "      <td>2.900000</td>\n",
       "      <td>0.038827</td>\n",
       "      <td>101.298300</td>\n",
       "      <td>1.000000</td>\n",
       "      <td>1.000000</td>\n",
       "      <td>6.000000</td>\n",
       "    </tr>\n",
       "    <tr>\n",
       "      <th>75%</th>\n",
       "      <td>0.000000</td>\n",
       "      <td>39.333330</td>\n",
       "      <td>4.000000</td>\n",
       "      <td>0.093617</td>\n",
       "      <td>249.035800</td>\n",
       "      <td>2.000000</td>\n",
       "      <td>1.000000</td>\n",
       "      <td>11.000000</td>\n",
       "    </tr>\n",
       "    <tr>\n",
       "      <th>max</th>\n",
       "      <td>14.000000</td>\n",
       "      <td>83.500000</td>\n",
       "      <td>13.500000</td>\n",
       "      <td>0.906320</td>\n",
       "      <td>3099.505000</td>\n",
       "      <td>6.000000</td>\n",
       "      <td>1.000000</td>\n",
       "      <td>46.000000</td>\n",
       "    </tr>\n",
       "  </tbody>\n",
       "</table>\n",
       "</div>"
      ],
      "text/plain": [
       "           reports          age       income        share  expenditure  \\\n",
       "count  1319.000000  1317.000000  1319.000000  1319.000000  1319.000000   \n",
       "mean      0.456406    33.200392     3.365376     0.068732   185.057071   \n",
       "std       1.345267    10.145220     1.693902     0.094656   272.218917   \n",
       "min       0.000000     0.166667     0.210000     0.000109     0.000000   \n",
       "25%       0.000000    25.416670     2.243750     0.002316     4.583333   \n",
       "50%       0.000000    31.250000     2.900000     0.038827   101.298300   \n",
       "75%       0.000000    39.333330     4.000000     0.093617   249.035800   \n",
       "max      14.000000    83.500000    13.500000     0.906320  3099.505000   \n",
       "\n",
       "        dependents   majorcards       active  \n",
       "count  1319.000000  1319.000000  1319.000000  \n",
       "mean      0.993935     0.817286     6.996967  \n",
       "std       1.247745     0.386579     6.305812  \n",
       "min       0.000000     0.000000     0.000000  \n",
       "25%       0.000000     1.000000     2.000000  \n",
       "50%       1.000000     1.000000     6.000000  \n",
       "75%       2.000000     1.000000    11.000000  \n",
       "max       6.000000     1.000000    46.000000  "
      ]
     },
     "execution_count": 13,
     "metadata": {},
     "output_type": "execute_result"
    }
   ],
   "source": [
    "# estadísticas generales\n",
    "credit.describe()"
   ]
  },
  {
   "cell_type": "code",
   "execution_count": 14,
   "metadata": {
    "colab": {
     "base_uri": "https://localhost:8080/",
     "height": 241
    },
    "executionInfo": {
     "elapsed": 5,
     "status": "ok",
     "timestamp": 1752918684411,
     "user": {
      "displayName": "FABIAN SANCHEZ SALAZAR",
      "userId": "15142555099295306735"
     },
     "user_tz": 300
    },
    "id": "YDJa_YXEwuZ2",
    "outputId": "ae33f972-87c2-496a-d812-59cffb025542"
   },
   "outputs": [
    {
     "data": {
      "text/plain": [
       "yes    1021\n",
       "no      294\n",
       "Yes       2\n",
       "No        2\n",
       "Name: card, dtype: int64"
      ]
     },
     "execution_count": 14,
     "metadata": {},
     "output_type": "execute_result"
    }
   ],
   "source": [
    "# revisamos los valores de la variable card\n",
    "credit.card.value_counts()"
   ]
  },
  {
   "cell_type": "markdown",
   "metadata": {
    "id": "Cz5v2lJM9PzR"
   },
   "source": [
    "identificamos que no están unificados. Revisaremos las otras variables"
   ]
  },
  {
   "cell_type": "code",
   "execution_count": 15,
   "metadata": {
    "colab": {
     "base_uri": "https://localhost:8080/"
    },
    "executionInfo": {
     "elapsed": 12,
     "status": "ok",
     "timestamp": 1752918687276,
     "user": {
      "displayName": "FABIAN SANCHEZ SALAZAR",
      "userId": "15142555099295306735"
     },
     "user_tz": 300
    },
    "id": "v9ZzKPwUoNgr",
    "outputId": "939a195c-71da-4143-84e5-b714fbe2628a"
   },
   "outputs": [
    {
     "name": "stdout",
     "output_type": "stream",
     "text": [
      "----\n",
      "Valores únicos en card: ['yes' 'no' 'Yes' 'No']\n",
      "----\n",
      "Valores únicos en owner: ['yes' 'no']\n",
      "----\n",
      "Valores únicos en selfemp: ['no' 'yes']\n",
      "----\n",
      "Valores únicos en months: ['54' '34' '58' '25' '64' '7' '77' '97' '65' '24' '36' '42' '26' '12o'\n",
      " '168' '96' '60' '28' '115' '12' '18' '13' '38' '74' '9' '14' '4o' '108'\n",
      " '46' '2' '8' '156' '98' '30' '0' '6' '48' '216' '33' '20' '3' '16' '182'\n",
      " '78' '4' '53' '144' '5' '94' '37' '3o' '15' '177' '172' '288' '87' '69'\n",
      " '161' '72' '1' '51' '120' '126' '27' '32' '52' '114' '180' '41' '67' '62'\n",
      " '84' '264' '164' '55' '57' '50' '11' '10' '17' '61' '128' '56' '45' '19'\n",
      " '252' '23' '35' '43' '300' '31' '76' '121' '21' '230' '204' '179' '40'\n",
      " '80' '59' '93' '49' '22' '408' '44' '63' '372' '113' '106' '90' '540'\n",
      " '188' '146' '301' '192' '150' '85' '133' '131' '270' '102' '151' '70'\n",
      " '125' '159' '101' '75' '117' '132' '158' '200' '210' '250' '109' '240'\n",
      " '268' '162' '135' '66' '110' '134' '160' '122' '86' '95' '186' '68' '138'\n",
      " '88' '244' '511' '29' '104' '47' '241' '147' '39' '236' '228' '136' '91'\n",
      " '100' '347' '82' '194' '243' '222' '365' '207' '209' '234' '166' '99'\n",
      " '229' '269' '124' '303' '218' '118' '201' '220' '148' '143' '169' '242'\n",
      " '233' '105' '232' '528' '81' '429' '153' '276' '154' '111' '123']\n"
     ]
    }
   ],
   "source": [
    "# Valores únicos por columna para detectar posibles inconsistencias\n",
    "for col in list(credit.select_dtypes(include='object').columns):\n",
    "  print(\"----\")\n",
    "  print(f\"Valores únicos en {col}: {credit[col].unique()}\")\n"
   ]
  },
  {
   "cell_type": "code",
   "execution_count": 16,
   "metadata": {
    "colab": {
     "base_uri": "https://localhost:8080/",
     "height": 542
    },
    "executionInfo": {
     "elapsed": 44,
     "status": "ok",
     "timestamp": 1752918689635,
     "user": {
      "displayName": "FABIAN SANCHEZ SALAZAR",
      "userId": "15142555099295306735"
     },
     "user_tz": 300
    },
    "id": "o_tvnJskE1bn",
    "outputId": "d2e935f1-424d-473f-c00c-32a0cbba21c8"
   },
   "outputs": [
    {
     "data": {
      "application/vnd.plotly.v1+json": {
       "config": {
        "plotlyServerURL": "https://plot.ly"
       },
       "data": [
        {
         "alignmentgroup": "True",
         "hovertemplate": "variable=%{x}<br>value=%{y}<extra></extra>",
         "legendgroup": "",
         "marker": {
          "color": "#636efa"
         },
         "name": "",
         "notched": false,
         "offsetgroup": "",
         "orientation": "v",
         "showlegend": false,
         "type": "box",
         "x": [
          "age",
          "age",
          "age",
          "age",
          "age",
          "age",
          "age",
          "age",
          "age",
          "age",
          "age",
          "age",
          "age",
          "age",
          "age",
          "age",
          "age",
          "age",
          "age",
          "age",
          "age",
          "age",
          "age",
          "age",
          "age",
          "age",
          "age",
          "age",
          "age",
          "age",
          "age",
          "age",
          "age",
          "age",
          "age",
          "age",
          "age",
          "age",
          "age",
          "age",
          "age",
          "age",
          "age",
          "age",
          "age",
          "age",
          "age",
          "age",
          "age",
          "age",
          "age",
          "age",
          "age",
          "age",
          "age",
          "age",
          "age",
          "age",
          "age",
          "age",
          "age",
          "age",
          "age",
          "age",
          "age",
          "age",
          "age",
          "age",
          "age",
          "age",
          "age",
          "age",
          "age",
          "age",
          "age",
          "age",
          "age",
          "age",
          "age",
          "age",
          "age",
          "age",
          "age",
          "age",
          "age",
          "age",
          "age",
          "age",
          "age",
          "age",
          "age",
          "age",
          "age",
          "age",
          "age",
          "age",
          "age",
          "age",
          "age",
          "age",
          "age",
          "age",
          "age",
          "age",
          "age",
          "age",
          "age",
          "age",
          "age",
          "age",
          "age",
          "age",
          "age",
          "age",
          "age",
          "age",
          "age",
          "age",
          "age",
          "age",
          "age",
          "age",
          "age",
          "age",
          "age",
          "age",
          "age",
          "age",
          "age",
          "age",
          "age",
          "age",
          "age",
          "age",
          "age",
          "age",
          "age",
          "age",
          "age",
          "age",
          "age",
          "age",
          "age",
          "age",
          "age",
          "age",
          "age",
          "age",
          "age",
          "age",
          "age",
          "age",
          "age",
          "age",
          "age",
          "age",
          "age",
          "age",
          "age",
          "age",
          "age",
          "age",
          "age",
          "age",
          "age",
          "age",
          "age",
          "age",
          "age",
          "age",
          "age",
          "age",
          "age",
          "age",
          "age",
          "age",
          "age",
          "age",
          "age",
          "age",
          "age",
          "age",
          "age",
          "age",
          "age",
          "age",
          "age",
          "age",
          "age",
          "age",
          "age",
          "age",
          "age",
          "age",
          "age",
          "age",
          "age",
          "age",
          "age",
          "age",
          "age",
          "age",
          "age",
          "age",
          "age",
          "age",
          "age",
          "age",
          "age",
          "age",
          "age",
          "age",
          "age",
          "age",
          "age",
          "age",
          "age",
          "age",
          "age",
          "age",
          "age",
          "age",
          "age",
          "age",
          "age",
          "age",
          "age",
          "age",
          "age",
          "age",
          "age",
          "age",
          "age",
          "age",
          "age",
          "age",
          "age",
          "age",
          "age",
          "age",
          "age",
          "age",
          "age",
          "age",
          "age",
          "age",
          "age",
          "age",
          "age",
          "age",
          "age",
          "age",
          "age",
          "age",
          "age",
          "age",
          "age",
          "age",
          "age",
          "age",
          "age",
          "age",
          "age",
          "age",
          "age",
          "age",
          "age",
          "age",
          "age",
          "age",
          "age",
          "age",
          "age",
          "age",
          "age",
          "age",
          "age",
          "age",
          "age",
          "age",
          "age",
          "age",
          "age",
          "age",
          "age",
          "age",
          "age",
          "age",
          "age",
          "age",
          "age",
          "age",
          "age",
          "age",
          "age",
          "age",
          "age",
          "age",
          "age",
          "age",
          "age",
          "age",
          "age",
          "age",
          "age",
          "age",
          "age",
          "age",
          "age",
          "age",
          "age",
          "age",
          "age",
          "age",
          "age",
          "age",
          "age",
          "age",
          "age",
          "age",
          "age",
          "age",
          "age",
          "age",
          "age",
          "age",
          "age",
          "age",
          "age",
          "age",
          "age",
          "age",
          "age",
          "age",
          "age",
          "age",
          "age",
          "age",
          "age",
          "age",
          "age",
          "age",
          "age",
          "age",
          "age",
          "age",
          "age",
          "age",
          "age",
          "age",
          "age",
          "age",
          "age",
          "age",
          "age",
          "age",
          "age",
          "age",
          "age",
          "age",
          "age",
          "age",
          "age",
          "age",
          "age",
          "age",
          "age",
          "age",
          "age",
          "age",
          "age",
          "age",
          "age",
          "age",
          "age",
          "age",
          "age",
          "age",
          "age",
          "age",
          "age",
          "age",
          "age",
          "age",
          "age",
          "age",
          "age",
          "age",
          "age",
          "age",
          "age",
          "age",
          "age",
          "age",
          "age",
          "age",
          "age",
          "age",
          "age",
          "age",
          "age",
          "age",
          "age",
          "age",
          "age",
          "age",
          "age",
          "age",
          "age",
          "age",
          "age",
          "age",
          "age",
          "age",
          "age",
          "age",
          "age",
          "age",
          "age",
          "age",
          "age",
          "age",
          "age",
          "age",
          "age",
          "age",
          "age",
          "age",
          "age",
          "age",
          "age",
          "age",
          "age",
          "age",
          "age",
          "age",
          "age",
          "age",
          "age",
          "age",
          "age",
          "age",
          "age",
          "age",
          "age",
          "age",
          "age",
          "age",
          "age",
          "age",
          "age",
          "age",
          "age",
          "age",
          "age",
          "age",
          "age",
          "age",
          "age",
          "age",
          "age",
          "age",
          "age",
          "age",
          "age",
          "age",
          "age",
          "age",
          "age",
          "age",
          "age",
          "age",
          "age",
          "age",
          "age",
          "age",
          "age",
          "age",
          "age",
          "age",
          "age",
          "age",
          "age",
          "age",
          "age",
          "age",
          "age",
          "age",
          "age",
          "age",
          "age",
          "age",
          "age",
          "age",
          "age",
          "age",
          "age",
          "age",
          "age",
          "age",
          "age",
          "age",
          "age",
          "age",
          "age",
          "age",
          "age",
          "age",
          "age",
          "age",
          "age",
          "age",
          "age",
          "age",
          "age",
          "age",
          "age",
          "age",
          "age",
          "age",
          "age",
          "age",
          "age",
          "age",
          "age",
          "age",
          "age",
          "age",
          "age",
          "age",
          "age",
          "age",
          "age",
          "age",
          "age",
          "age",
          "age",
          "age",
          "age",
          "age",
          "age",
          "age",
          "age",
          "age",
          "age",
          "age",
          "age",
          "age",
          "age",
          "age",
          "age",
          "age",
          "age",
          "age",
          "age",
          "age",
          "age",
          "age",
          "age",
          "age",
          "age",
          "age",
          "age",
          "age",
          "age",
          "age",
          "age",
          "age",
          "age",
          "age",
          "age",
          "age",
          "age",
          "age",
          "age",
          "age",
          "age",
          "age",
          "age",
          "age",
          "age",
          "age",
          "age",
          "age",
          "age",
          "age",
          "age",
          "age",
          "age",
          "age",
          "age",
          "age",
          "age",
          "age",
          "age",
          "age",
          "age",
          "age",
          "age",
          "age",
          "age",
          "age",
          "age",
          "age",
          "age",
          "age",
          "age",
          "age",
          "age",
          "age",
          "age",
          "age",
          "age",
          "age",
          "age",
          "age",
          "age",
          "age",
          "age",
          "age",
          "age",
          "age",
          "age",
          "age",
          "age",
          "age",
          "age",
          "age",
          "age",
          "age",
          "age",
          "age",
          "age",
          "age",
          "age",
          "age",
          "age",
          "age",
          "age",
          "age",
          "age",
          "age",
          "age",
          "age",
          "age",
          "age",
          "age",
          "age",
          "age",
          "age",
          "age",
          "age",
          "age",
          "age",
          "age",
          "age",
          "age",
          "age",
          "age",
          "age",
          "age",
          "age",
          "age",
          "age",
          "age",
          "age",
          "age",
          "age",
          "age",
          "age",
          "age",
          "age",
          "age",
          "age",
          "age",
          "age",
          "age",
          "age",
          "age",
          "age",
          "age",
          "age",
          "age",
          "age",
          "age",
          "age",
          "age",
          "age",
          "age",
          "age",
          "age",
          "age",
          "age",
          "age",
          "age",
          "age",
          "age",
          "age",
          "age",
          "age",
          "age",
          "age",
          "age",
          "age",
          "age",
          "age",
          "age",
          "age",
          "age",
          "age",
          "age",
          "age",
          "age",
          "age",
          "age",
          "age",
          "age",
          "age",
          "age",
          "age",
          "age",
          "age",
          "age",
          "age",
          "age",
          "age",
          "age",
          "age",
          "age",
          "age",
          "age",
          "age",
          "age",
          "age",
          "age",
          "age",
          "age",
          "age",
          "age",
          "age",
          "age",
          "age",
          "age",
          "age",
          "age",
          "age",
          "age",
          "age",
          "age",
          "age",
          "age",
          "age",
          "age",
          "age",
          "age",
          "age",
          "age",
          "age",
          "age",
          "age",
          "age",
          "age",
          "age",
          "age",
          "age",
          "age",
          "age",
          "age",
          "age",
          "age",
          "age",
          "age",
          "age",
          "age",
          "age",
          "age",
          "age",
          "age",
          "age",
          "age",
          "age",
          "age",
          "age",
          "age",
          "age",
          "age",
          "age",
          "age",
          "age",
          "age",
          "age",
          "age",
          "age",
          "age",
          "age",
          "age",
          "age",
          "age",
          "age",
          "age",
          "age",
          "age",
          "age",
          "age",
          "age",
          "age",
          "age",
          "age",
          "age",
          "age",
          "age",
          "age",
          "age",
          "age",
          "age",
          "age",
          "age",
          "age",
          "age",
          "age",
          "age",
          "age",
          "age",
          "age",
          "age",
          "age",
          "age",
          "age",
          "age",
          "age",
          "age",
          "age",
          "age",
          "age",
          "age",
          "age",
          "age",
          "age",
          "age",
          "age",
          "age",
          "age",
          "age",
          "age",
          "age",
          "age",
          "age",
          "age",
          "age",
          "age",
          "age",
          "age",
          "age",
          "age",
          "age",
          "age",
          "age",
          "age",
          "age",
          "age",
          "age",
          "age",
          "age",
          "age",
          "age",
          "age",
          "age",
          "age",
          "age",
          "age",
          "age",
          "age",
          "age",
          "age",
          "age",
          "age",
          "age",
          "age",
          "age",
          "age",
          "age",
          "age",
          "age",
          "age",
          "age",
          "age",
          "age",
          "age",
          "age",
          "age",
          "age",
          "age",
          "age",
          "age",
          "age",
          "age",
          "age",
          "age",
          "age",
          "age",
          "age",
          "age",
          "age",
          "age",
          "age",
          "age",
          "age",
          "age",
          "age",
          "age",
          "age",
          "age",
          "age",
          "age",
          "age",
          "age",
          "age",
          "age",
          "age",
          "age",
          "age",
          "age",
          "age",
          "age",
          "age",
          "age",
          "age",
          "age",
          "age",
          "age",
          "age",
          "age",
          "age",
          "age",
          "age",
          "age",
          "age",
          "age",
          "age",
          "age",
          "age",
          "age",
          "age",
          "age",
          "age",
          "age",
          "age",
          "age",
          "age",
          "age",
          "age",
          "age",
          "age",
          "age",
          "age",
          "age",
          "age",
          "age",
          "age",
          "age",
          "age",
          "age",
          "age",
          "age",
          "age",
          "age",
          "age",
          "age",
          "age",
          "age",
          "age",
          "age",
          "age",
          "age",
          "age",
          "age",
          "age",
          "age",
          "age",
          "age",
          "age",
          "age",
          "age",
          "age",
          "age",
          "age",
          "age",
          "age",
          "age",
          "age",
          "age",
          "age",
          "age",
          "age",
          "age",
          "age",
          "age",
          "age",
          "age",
          "age",
          "age",
          "age",
          "age",
          "age",
          "age",
          "age",
          "age",
          "age",
          "age",
          "age",
          "age",
          "age",
          "age",
          "age",
          "age",
          "age",
          "age",
          "age",
          "age",
          "age",
          "age",
          "age",
          "age",
          "age",
          "age",
          "age",
          "age",
          "age",
          "age",
          "age",
          "age",
          "age",
          "age",
          "age",
          "age",
          "age",
          "age",
          "age",
          "age",
          "age",
          "age",
          "age",
          "age",
          "age",
          "age",
          "age",
          "age",
          "age",
          "age",
          "age",
          "age",
          "age",
          "age",
          "age",
          "age",
          "age",
          "age",
          "age",
          "age",
          "age",
          "age",
          "age",
          "age",
          "age",
          "age",
          "age",
          "age",
          "age",
          "age",
          "age",
          "age",
          "age",
          "age",
          "age",
          "age",
          "age",
          "age",
          "age",
          "age",
          "age",
          "age",
          "age",
          "age",
          "age",
          "age",
          "age",
          "age",
          "age",
          "age",
          "age",
          "age",
          "age",
          "age",
          "age",
          "age",
          "age",
          "age",
          "age",
          "age",
          "age",
          "age",
          "age",
          "age",
          "age",
          "age",
          "age",
          "age",
          "age",
          "age",
          "age",
          "age",
          "age",
          "age",
          "age",
          "age",
          "age",
          "age",
          "age",
          "age",
          "age",
          "age",
          "age",
          "age",
          "age",
          "age",
          "age",
          "age",
          "age",
          "age",
          "age",
          "age",
          "age",
          "age",
          "age",
          "age",
          "age",
          "age",
          "age",
          "age",
          "age",
          "age",
          "age",
          "age",
          "age",
          "age",
          "age",
          "age",
          "age",
          "age",
          "age",
          "age",
          "age",
          "age",
          "age",
          "age",
          "age",
          "age",
          "age",
          "age",
          "age",
          "age",
          "age",
          "age",
          "age",
          "age",
          "age",
          "age",
          "age",
          "age",
          "age",
          "age",
          "age",
          "age",
          "age",
          "age",
          "age",
          "age",
          "age",
          "age",
          "age",
          "age",
          "age",
          "age",
          "age",
          "age",
          "age",
          "age",
          "age",
          "age",
          "age",
          "age",
          "age",
          "age",
          "age",
          "age",
          "age",
          "age",
          "age",
          "age",
          "age",
          "age",
          "age",
          "age",
          "age",
          "age",
          "age",
          "age",
          "age",
          "age",
          "age",
          "age",
          "age",
          "age",
          "age",
          "age",
          "age",
          "age",
          "age",
          "age",
          "age",
          "age",
          "age",
          "age",
          "age",
          "age",
          "age",
          "age",
          "age",
          "age",
          "age",
          "age",
          "age",
          "age",
          "age",
          "age",
          "age",
          "age",
          "age",
          "age",
          "age",
          "age",
          "age",
          "age",
          "age",
          "age",
          "age",
          "age",
          "age",
          "age",
          "age",
          "age",
          "age",
          "age",
          "age",
          "age",
          "age",
          "age",
          "age",
          "age",
          "age",
          "age",
          "age",
          "age",
          "age",
          "age",
          "age",
          "age",
          "age",
          "age",
          "age",
          "age",
          "age",
          "age",
          "age",
          "age",
          "age",
          "age",
          "age",
          "age",
          "age",
          "age",
          "age",
          "age",
          "age",
          "age",
          "age",
          "age",
          "age",
          "age",
          "age",
          "age",
          "age",
          "age",
          "age",
          "age",
          "age",
          "age",
          "age",
          "age",
          "age",
          "age",
          "age",
          "age",
          "age",
          "age",
          "age",
          "age",
          "age",
          "age",
          "age",
          "age",
          "age",
          "age",
          "age",
          "age",
          "age",
          "age",
          "age",
          "age"
         ],
         "x0": " ",
         "xaxis": "x",
         "y": [
          37.66667,
          33.25,
          33.66667,
          30.5,
          32.16667,
          23.25,
          27.91667,
          29.16667,
          37,
          28.41667,
          30.5,
          null,
          30,
          28.83333,
          35.33333,
          null,
          40.08333,
          29.5,
          39.5,
          45.75,
          35.25,
          25.16667,
          34.25,
          35.75,
          42.66667,
          30.25,
          21.66667,
          22.25,
          34.25,
          40,
          21.83333,
          29.41667,
          24.91667,
          21,
          23.83333,
          42.83333,
          42.58333,
          36.58333,
          26.75,
          27.75,
          26.25,
          23.33333,
          29.91667,
          30,
          38.33333,
          28.16667,
          35.58333,
          37.75,
          26.08333,
          27.75,
          49.75,
          24.25,
          20.66667,
          23.75,
          25.75,
          32.91667,
          34.33333,
          33.25,
          44.66667,
          21.16667,
          25.08333,
          27.16667,
          26.41667,
          22,
          27.33333,
          26.16667,
          40.75,
          42.08333,
          21.66667,
          24.66667,
          30.75,
          27.41667,
          33,
          37.33333,
          26.58333,
          24.33333,
          24.25,
          25.25,
          0.5,
          32.83333,
          32.75,
          54.58333,
          19.58333,
          29.33333,
          40.16667,
          40.75,
          41.25,
          34.5,
          23.66667,
          53.66667,
          34,
          44.91667,
          43.41667,
          35.16667,
          35.83333,
          21.66667,
          32.66667,
          25.41667,
          26.25,
          46,
          35,
          35,
          20.91667,
          25.16667,
          31.25,
          23.16667,
          23,
          24.83333,
          40.91667,
          43.66667,
          23.08333,
          41.91667,
          28.16667,
          45.58333,
          25.91667,
          37.33333,
          37.66667,
          30.25,
          21.25,
          40.08333,
          23.41667,
          21.83333,
          22.16667,
          40.83333,
          18.66667,
          34.33333,
          25.08333,
          20.08333,
          24.75,
          41.91667,
          31.08333,
          53.33333,
          24.25,
          25.41667,
          21.83333,
          20.58333,
          18.41667,
          22,
          21.41667,
          42,
          36.41667,
          41.5,
          26.5,
          33.16667,
          43.08333,
          30.33333,
          25.08333,
          35.66667,
          44.5,
          43.25,
          50,
          31.75,
          43.25,
          27.16667,
          24.91667,
          49.66667,
          28.33333,
          26.5,
          29.41667,
          71.83334,
          24.5,
          25.08333,
          24.91667,
          30.08333,
          32.58333,
          23.08333,
          48.91667,
          25.33333,
          25.33333,
          24.91667,
          29.16667,
          28.58333,
          32.33333,
          26.5,
          34.33333,
          28.41667,
          23.58333,
          30.83333,
          34.66667,
          31.5,
          36.16667,
          32.41667,
          31.25,
          28.08333,
          41.58333,
          21.75,
          30.25,
          43.5,
          29.58333,
          33.75,
          24.16667,
          25.41667,
          24.25,
          24.08333,
          32,
          46.16667,
          21.91667,
          36.25,
          23.83333,
          49.41667,
          26.08333,
          29.16667,
          33,
          29.33333,
          47.58333,
          21.58333,
          30.41667,
          62.91667,
          21.58333,
          30.66667,
          47.75,
          39.75,
          53.16667,
          22.83333,
          24.91667,
          25.16667,
          61.08333,
          29.16667,
          35.33333,
          26.08333,
          42.75,
          27.58333,
          22.5,
          40.91667,
          35.16667,
          32.83333,
          25.83333,
          56.91667,
          30.16667,
          25.08333,
          34.58333,
          24.66667,
          40.75,
          31.33333,
          27.83333,
          30.83333,
          46.25,
          20.5,
          28,
          51.66667,
          41.83333,
          51.75,
          53.5,
          26.08333,
          20.5,
          27.75,
          23.25,
          23.08333,
          20.33333,
          83.5,
          24.5,
          33.75,
          25.08333,
          26.91667,
          65.91666,
          21.58333,
          35,
          46,
          25.33333,
          35.91667,
          33.66667,
          30.08333,
          26.41667,
          24.58333,
          37.75,
          46.25,
          29.5,
          43.83333,
          46.91667,
          21.83333,
          57.66667,
          23.66667,
          25.66667,
          30.66667,
          34.83333,
          37.5,
          40.33333,
          24.41667,
          31.25,
          41.16667,
          29.83333,
          35.91667,
          42.91667,
          25.83333,
          34.16667,
          63.5,
          21.91667,
          21.25,
          22.33333,
          22.91667,
          23.83333,
          26.83333,
          35.83333,
          41.08333,
          40.75,
          53.58333,
          20.75,
          34.83333,
          32.16667,
          40.75,
          38.58333,
          22.41667,
          31,
          29.08333,
          33.75,
          38,
          21.91667,
          26.41667,
          40.33333,
          23.75,
          37.58333,
          27.75,
          21.66667,
          26.16667,
          31.75,
          33.75,
          27.33333,
          39.75,
          23.25,
          23.91667,
          28.16667,
          26.33333,
          25.33333,
          0.1666667,
          36.58333,
          34.83333,
          41.58333,
          28.33333,
          44.58333,
          34,
          35.83333,
          22,
          34,
          27.66667,
          34.5,
          40.33333,
          24.25,
          30.16667,
          45,
          31.66667,
          24.91667,
          27.83333,
          56.91667,
          34.41667,
          32.58333,
          26.58333,
          20.41667,
          40,
          40.16667,
          25.66667,
          32.08333,
          26,
          36.91667,
          22.66667,
          28.25,
          49.16667,
          24.16667,
          32.66667,
          32.58333,
          36,
          29.25,
          36.41667,
          22.91667,
          61,
          54.41667,
          25.66667,
          30.33333,
          27.08333,
          39,
          24.16667,
          47.08333,
          24.83333,
          32.16667,
          33.08333,
          45,
          32.83333,
          23.33333,
          25.16667,
          26.58333,
          22.91667,
          45.66667,
          29.16667,
          48.91667,
          39.75,
          20.08333,
          32.91667,
          39.66667,
          26.83333,
          27.25,
          19.58333,
          24.08333,
          22.83333,
          27.08333,
          23.83333,
          41.66667,
          27.25,
          46.5,
          21.08333,
          32.33333,
          22.58333,
          25.58333,
          35.25,
          34.58333,
          35.75,
          38.25,
          34.75,
          28.75,
          29.16667,
          28.58333,
          22.08333,
          36.5,
          43.83333,
          32,
          56.91667,
          24.33333,
          34.58333,
          53,
          31.16667,
          54.08333,
          45.83333,
          20.83333,
          27.33333,
          37.58333,
          33.25,
          28.08333,
          27.16667,
          50,
          48.33333,
          25.25,
          30.75,
          63.16667,
          32.33333,
          28.41667,
          28.91667,
          0.5833333,
          25.66667,
          21.91667,
          27.16667,
          22.5,
          25.33333,
          20.16667,
          25,
          36.58333,
          19.66667,
          31.25,
          29.08333,
          51.58333,
          31.5,
          46.5,
          24.66667,
          54.75,
          21.41667,
          27.08333,
          45.08333,
          35.91667,
          40.91667,
          54.5,
          28.16667,
          34.08333,
          30,
          33.91667,
          0.75,
          51.25,
          25.91667,
          27.91667,
          23.83333,
          29,
          33.5,
          30.83333,
          38.75,
          32.16667,
          43.33333,
          29.83333,
          62,
          35.5,
          21.5,
          38.25,
          39.58333,
          40.5,
          34.25,
          34.83333,
          28.16667,
          47.16667,
          28.16667,
          22.41667,
          45.5,
          22.91667,
          37.08333,
          27.25,
          39.58333,
          51.83333,
          23.66667,
          21.5,
          21.91667,
          45.58333,
          39.91667,
          42.25,
          27.5,
          25.75,
          25.41667,
          31.83333,
          25.25,
          24.16667,
          28.16667,
          26.58333,
          20.91667,
          35.58333,
          32.16667,
          28.66667,
          39.75,
          34.83333,
          51.75,
          22.66667,
          38.25,
          46.25,
          50.33333,
          32.08333,
          30.58333,
          38.83333,
          39.58333,
          39.66667,
          41.66667,
          38.83333,
          37.08333,
          27.83333,
          29.5,
          28.91667,
          31.08333,
          30.33333,
          37.41667,
          44.58333,
          25.33333,
          26.83333,
          46.16667,
          28.08333,
          38.41667,
          46.75,
          52.25,
          37.16667,
          25.33333,
          28.25,
          35.33333,
          25.41667,
          28.16667,
          19,
          25.41667,
          26.08333,
          31.25,
          33.66667,
          27.91667,
          48.33333,
          36.83333,
          45.41667,
          53,
          27.58333,
          40,
          49.16667,
          40.33333,
          23.83333,
          34.25,
          21.41667,
          39.33333,
          24.25,
          47.83333,
          34.83333,
          52.25,
          47.5,
          25.75,
          24.08333,
          24.5,
          22.33333,
          33.16667,
          38.91667,
          22.16667,
          23.33333,
          24.08333,
          26.66667,
          52.41667,
          20.25,
          25.41667,
          22.75,
          24.41667,
          21.5,
          22.41667,
          46.33333,
          19.41667,
          29.83333,
          28.91667,
          26.66667,
          44.83333,
          27,
          30.16667,
          24.83333,
          28,
          39.16667,
          31.41667,
          40.41667,
          23.16667,
          43.58333,
          25.16667,
          40.58333,
          32.08333,
          42.16667,
          47.33333,
          27.83333,
          30.66667,
          38.5,
          31,
          47.91667,
          21.91667,
          36.75,
          23.5,
          25.33333,
          21.25,
          48.91667,
          35.58333,
          39.08333,
          27.66667,
          23.25,
          31.16667,
          26.83333,
          39.25,
          24.83333,
          27.16667,
          24.66667,
          44.66667,
          25.16667,
          21.91667,
          40.41667,
          24.08333,
          31.83333,
          24.66667,
          47.41667,
          27.16667,
          49.58333,
          32,
          35,
          26.16667,
          20.66667,
          34.25,
          49.83333,
          40.75,
          20.83333,
          40.33333,
          25.08333,
          29.33333,
          40.5,
          30.75,
          30.66667,
          40,
          23,
          23.08333,
          31.33333,
          24.58333,
          36.5,
          0.5833333,
          28.83333,
          45.58333,
          0.5,
          23.25,
          38.91667,
          23.83333,
          37.25,
          28.25,
          26.25,
          26.5,
          25.83333,
          41.25,
          38.58333,
          34.75,
          31.5,
          24,
          25.16667,
          57.08333,
          23.83333,
          23.16667,
          28.16667,
          32.58333,
          34.83333,
          31.08333,
          24.83333,
          38.66667,
          36.91667,
          29.75,
          34.75,
          25.08333,
          22.16667,
          26.66667,
          32,
          39.33333,
          30.91667,
          60.08333,
          36.41667,
          36.91667,
          28.83333,
          66.5,
          35.16667,
          74.16666,
          28.41667,
          55.16667,
          38.33333,
          37.83333,
          39.66667,
          44.58333,
          30.75,
          23.41667,
          27.41667,
          51.91667,
          22.83333,
          22.5,
          36.83333,
          36.41667,
          22.75,
          32,
          27.08333,
          38.33333,
          28.66667,
          38.16667,
          26.08333,
          22,
          23.5,
          29.58333,
          23.08333,
          33.83333,
          64.58334,
          23.5,
          23.83333,
          36.91667,
          38.25,
          22,
          38.5,
          36.58333,
          26.25,
          21.5,
          41.41667,
          40.83333,
          25.16667,
          23.5,
          27.25,
          38.75,
          23.08333,
          37.25,
          41.58333,
          52.41667,
          31.75,
          36,
          21.41667,
          42.08333,
          32.33333,
          24.25,
          32.25,
          28.91667,
          28.33333,
          23.16667,
          44.58333,
          31.41667,
          24.91667,
          28.25,
          47.41667,
          26.41667,
          37.08333,
          54.41667,
          35.25,
          35.5,
          44.5,
          20.16667,
          23.75,
          27.58333,
          54.75,
          40.33333,
          32.83333,
          28.5,
          35.5,
          56.75,
          28.16667,
          31,
          24,
          40.75,
          33,
          38.41667,
          25.91667,
          33.16667,
          27.91667,
          28.33333,
          22.08333,
          24.25,
          39.41667,
          25.41667,
          19,
          31.25,
          31.91667,
          33.25,
          26.33333,
          26.66667,
          22.41667,
          25.08333,
          26.66667,
          29.41667,
          35.08333,
          57.33333,
          52.16667,
          41.83333,
          39.41667,
          56.75,
          28.25,
          38.08333,
          55.08333,
          29.33333,
          19.83333,
          25.25,
          27.25,
          27.5,
          26,
          25.91667,
          32.25,
          43.33333,
          34.91667,
          27.75,
          28,
          39.41667,
          40.83333,
          23.33333,
          43.58333,
          47.83333,
          18.75,
          21.16667,
          54.83333,
          35.5,
          24.16667,
          24.83333,
          23.83333,
          39.91667,
          31.75,
          62.5,
          36.33333,
          23,
          28.33333,
          38,
          49.16667,
          50.91667,
          23.58333,
          29,
          45.25,
          31.66667,
          31.83333,
          37.58333,
          27.58333,
          36.08333,
          38.33333,
          25.5,
          41.5,
          34.58333,
          24.5,
          32.16667,
          24.58333,
          23.83333,
          22.66667,
          26.08333,
          30.16667,
          27.08333,
          27.16667,
          32.41667,
          32.5,
          46,
          47,
          22.75,
          42.08333,
          30.41667,
          21.41667,
          36.66667,
          37.16667,
          26.58333,
          46.41667,
          25.58333,
          30.33333,
          27.5,
          21,
          20,
          23.25,
          45.08333,
          26.5,
          29.75,
          52.33333,
          41.66667,
          22.75,
          33,
          29.83333,
          20.25,
          26.08333,
          22.5,
          32.83333,
          27.33333,
          28.5,
          36.91667,
          26,
          41.83333,
          23.75,
          25.25,
          25.66667,
          29,
          40.58333,
          59,
          37.41667,
          30.83333,
          29.83333,
          32.5,
          25.5,
          36.33333,
          25.33333,
          28.5,
          22,
          27.58333,
          29.33333,
          31.5,
          27.66667,
          39.16667,
          22.66667,
          30.08333,
          34.16667,
          42.83333,
          31.58333,
          32.33333,
          24.75,
          45.16667,
          25.41667,
          40.75,
          40.16667,
          41.41667,
          24.5,
          30.33333,
          25.16667,
          28.33333,
          28.41667,
          25.08333,
          23.25,
          21.25,
          39.83333,
          25.75,
          25.25,
          40.41667,
          37.66667,
          25.25,
          41.66667,
          24.25,
          22.91667,
          19,
          57.08333,
          33.91667,
          48.25,
          48.75,
          28.91667,
          40.83333,
          32.83333,
          44.33333,
          38.16667,
          37.33333,
          44.25,
          18.16667,
          24.58333,
          47.5,
          31.66667,
          33.08333,
          31.58333,
          38.41667,
          19.58333,
          35.33333,
          29.25,
          46,
          19.91667,
          22.83333,
          24.33333,
          18.5,
          49.16667,
          47.75,
          49.16667,
          57.58333,
          24.58333,
          26.41667,
          38.25,
          29.58333,
          30.66667,
          58.91667,
          38.5,
          45.66667,
          25.83333,
          30,
          80.16666,
          25.58333,
          40.08333,
          42.08333,
          49,
          44,
          43.16667,
          25,
          43.83333,
          24.5,
          39.5,
          25.66667,
          43.66667,
          46.33333,
          34.16667,
          38.83333,
          37.08333,
          19.5,
          27.41667,
          39.91667,
          45.66667,
          52.16667,
          34.75,
          30.08333,
          61.58333,
          32.66667,
          38.83333,
          37.08333,
          33.5,
          30.08333,
          42.66667,
          29.41667,
          52.66667,
          29.83333,
          45.75,
          30.16667,
          30.83333,
          22.25,
          37.16667,
          22,
          29,
          28.33333,
          27.16667,
          31.33333,
          32.66667,
          30.58333,
          40.66667,
          39.08333,
          43.25,
          24.75,
          26.5,
          61.16667,
          44.08333,
          61.08333,
          40.66667,
          20.83333,
          45.91667,
          26.83333,
          33.58333,
          30.66667,
          23.91667,
          34.83333,
          38.58333,
          35.83333,
          36,
          42.66667,
          22.58333,
          28.5,
          44.91667,
          30.58333,
          27.25,
          24,
          23.41667,
          55.33333,
          35.16667,
          46.33333,
          39.41667,
          34.91667,
          19.08333,
          27.58333,
          46.25,
          47.16667,
          25.41667,
          51.33333,
          41,
          36.33333,
          32.41667,
          41.75,
          32.75,
          21.91667,
          29.25,
          21.08333,
          34.66667,
          27.91667,
          36.5,
          24,
          63.75,
          25.83333,
          42.41667,
          35,
          20.66667,
          41.83333,
          24.91667,
          32.08333,
          34.08333,
          37.16667,
          27.08333,
          56,
          26.75,
          33.25,
          19.16667,
          35.91667,
          25.16667,
          45.75,
          38.5,
          42,
          25.83333,
          25.91667,
          31.08333,
          40.5,
          67.16666,
          33.08333,
          45.75,
          28.16667,
          30.41667,
          47,
          42.75,
          44.5,
          37.66667,
          28,
          31.75,
          22.91667,
          57.75,
          23,
          24.16667,
          37.16667,
          63.41667,
          23,
          24.33333,
          41.08333,
          28.16667,
          52.33333,
          28,
          28.75,
          39.08333,
          32.25,
          33.25,
          25,
          42.41667,
          35.25,
          33.08333,
          33.83333,
          48.16667,
          26.75,
          40.08333,
          32.41667,
          20.91667,
          21.5,
          27.83333,
          43.91667,
          24.25,
          29.08333,
          27.75,
          47.58333,
          19.83333,
          42,
          42.75,
          44.58333,
          35.83333,
          21.83333,
          25.91667,
          40.91667,
          35.83333,
          31,
          51.66667,
          34,
          30.58333,
          33.33333,
          32.75,
          26.08333,
          31.91667,
          20.58333,
          23.41667,
          60.25,
          24.83333,
          30.16667,
          29.33333,
          48.16667,
          25.25,
          69.75,
          53.25,
          54.08333,
          32,
          33.75,
          23.16667,
          24.75,
          40.41667,
          48.25,
          35.83333,
          49.66667,
          34.66667,
          34.91667,
          47.33333,
          19.5,
          30.33333,
          40,
          35.25,
          23.75,
          0.75,
          24.83333,
          38.75,
          24.91667,
          25.33333,
          23.25,
          49.83333,
          37.08333,
          20.16667,
          24.58333,
          28.5,
          45.58333,
          20.58333,
          54.25,
          24.58333,
          31.91667,
          43.75,
          31.91667,
          22.83333,
          28.08333,
          27.58333,
          22.08333,
          34.16667,
          54.66667,
          32.91667,
          40,
          26,
          55.25,
          32.25,
          38.91667,
          28.41667,
          39.58333,
          55.58333,
          42,
          21.16667,
          33.08333,
          37.75,
          28.41667,
          31.08333,
          30.5,
          25.25,
          46.91667,
          36.16667,
          52.75,
          34.16667,
          53,
          22.33333,
          30,
          25.16667,
          21.08333,
          22.91667,
          40.66667,
          33.83333,
          35.16667,
          28.83333,
          30.75,
          41.33333,
          38.5,
          33.75,
          29.08333,
          27.08333,
          23.25,
          33.83333,
          38.16667,
          35.58333,
          30.41667,
          31.58333,
          23,
          25.25,
          35.58333,
          28.66667,
          37,
          41.08333,
          37.41667,
          19.41667,
          22.33333,
          29.08333,
          26.75,
          43.08333,
          37.33333,
          26.75,
          42.16667,
          28.16667,
          26.08333,
          48.25,
          27.83333,
          26.33333,
          21.08333,
          30.58333,
          27.83333,
          49.16667,
          35,
          48.66667,
          24.58333,
          29.58333,
          41.41667,
          40.91667,
          22,
          36,
          39.58333,
          31.58333,
          33.08333,
          22.83333,
          35.41667,
          58.08333,
          38.75,
          27.41667,
          23.91667,
          30.08333,
          34.08333,
          39.08333,
          38.41667,
          20.5,
          35.58333,
          25.91667,
          40.16667,
          30.58333,
          39.33333,
          22.58333,
          30.33333,
          33.58333,
          23.91667,
          40.58333,
          32.83333,
          48.25
         ],
         "y0": " ",
         "yaxis": "y"
        }
       ],
       "layout": {
        "boxmode": "group",
        "legend": {
         "tracegroupgap": 0
        },
        "margin": {
         "t": 60
        },
        "template": {
         "data": {
          "bar": [
           {
            "error_x": {
             "color": "#2a3f5f"
            },
            "error_y": {
             "color": "#2a3f5f"
            },
            "marker": {
             "line": {
              "color": "#E5ECF6",
              "width": 0.5
             },
             "pattern": {
              "fillmode": "overlay",
              "size": 10,
              "solidity": 0.2
             }
            },
            "type": "bar"
           }
          ],
          "barpolar": [
           {
            "marker": {
             "line": {
              "color": "#E5ECF6",
              "width": 0.5
             },
             "pattern": {
              "fillmode": "overlay",
              "size": 10,
              "solidity": 0.2
             }
            },
            "type": "barpolar"
           }
          ],
          "carpet": [
           {
            "aaxis": {
             "endlinecolor": "#2a3f5f",
             "gridcolor": "white",
             "linecolor": "white",
             "minorgridcolor": "white",
             "startlinecolor": "#2a3f5f"
            },
            "baxis": {
             "endlinecolor": "#2a3f5f",
             "gridcolor": "white",
             "linecolor": "white",
             "minorgridcolor": "white",
             "startlinecolor": "#2a3f5f"
            },
            "type": "carpet"
           }
          ],
          "choropleth": [
           {
            "colorbar": {
             "outlinewidth": 0,
             "ticks": ""
            },
            "type": "choropleth"
           }
          ],
          "contour": [
           {
            "colorbar": {
             "outlinewidth": 0,
             "ticks": ""
            },
            "colorscale": [
             [
              0,
              "#0d0887"
             ],
             [
              0.1111111111111111,
              "#46039f"
             ],
             [
              0.2222222222222222,
              "#7201a8"
             ],
             [
              0.3333333333333333,
              "#9c179e"
             ],
             [
              0.4444444444444444,
              "#bd3786"
             ],
             [
              0.5555555555555556,
              "#d8576b"
             ],
             [
              0.6666666666666666,
              "#ed7953"
             ],
             [
              0.7777777777777778,
              "#fb9f3a"
             ],
             [
              0.8888888888888888,
              "#fdca26"
             ],
             [
              1,
              "#f0f921"
             ]
            ],
            "type": "contour"
           }
          ],
          "contourcarpet": [
           {
            "colorbar": {
             "outlinewidth": 0,
             "ticks": ""
            },
            "type": "contourcarpet"
           }
          ],
          "heatmap": [
           {
            "colorbar": {
             "outlinewidth": 0,
             "ticks": ""
            },
            "colorscale": [
             [
              0,
              "#0d0887"
             ],
             [
              0.1111111111111111,
              "#46039f"
             ],
             [
              0.2222222222222222,
              "#7201a8"
             ],
             [
              0.3333333333333333,
              "#9c179e"
             ],
             [
              0.4444444444444444,
              "#bd3786"
             ],
             [
              0.5555555555555556,
              "#d8576b"
             ],
             [
              0.6666666666666666,
              "#ed7953"
             ],
             [
              0.7777777777777778,
              "#fb9f3a"
             ],
             [
              0.8888888888888888,
              "#fdca26"
             ],
             [
              1,
              "#f0f921"
             ]
            ],
            "type": "heatmap"
           }
          ],
          "heatmapgl": [
           {
            "colorbar": {
             "outlinewidth": 0,
             "ticks": ""
            },
            "colorscale": [
             [
              0,
              "#0d0887"
             ],
             [
              0.1111111111111111,
              "#46039f"
             ],
             [
              0.2222222222222222,
              "#7201a8"
             ],
             [
              0.3333333333333333,
              "#9c179e"
             ],
             [
              0.4444444444444444,
              "#bd3786"
             ],
             [
              0.5555555555555556,
              "#d8576b"
             ],
             [
              0.6666666666666666,
              "#ed7953"
             ],
             [
              0.7777777777777778,
              "#fb9f3a"
             ],
             [
              0.8888888888888888,
              "#fdca26"
             ],
             [
              1,
              "#f0f921"
             ]
            ],
            "type": "heatmapgl"
           }
          ],
          "histogram": [
           {
            "marker": {
             "pattern": {
              "fillmode": "overlay",
              "size": 10,
              "solidity": 0.2
             }
            },
            "type": "histogram"
           }
          ],
          "histogram2d": [
           {
            "colorbar": {
             "outlinewidth": 0,
             "ticks": ""
            },
            "colorscale": [
             [
              0,
              "#0d0887"
             ],
             [
              0.1111111111111111,
              "#46039f"
             ],
             [
              0.2222222222222222,
              "#7201a8"
             ],
             [
              0.3333333333333333,
              "#9c179e"
             ],
             [
              0.4444444444444444,
              "#bd3786"
             ],
             [
              0.5555555555555556,
              "#d8576b"
             ],
             [
              0.6666666666666666,
              "#ed7953"
             ],
             [
              0.7777777777777778,
              "#fb9f3a"
             ],
             [
              0.8888888888888888,
              "#fdca26"
             ],
             [
              1,
              "#f0f921"
             ]
            ],
            "type": "histogram2d"
           }
          ],
          "histogram2dcontour": [
           {
            "colorbar": {
             "outlinewidth": 0,
             "ticks": ""
            },
            "colorscale": [
             [
              0,
              "#0d0887"
             ],
             [
              0.1111111111111111,
              "#46039f"
             ],
             [
              0.2222222222222222,
              "#7201a8"
             ],
             [
              0.3333333333333333,
              "#9c179e"
             ],
             [
              0.4444444444444444,
              "#bd3786"
             ],
             [
              0.5555555555555556,
              "#d8576b"
             ],
             [
              0.6666666666666666,
              "#ed7953"
             ],
             [
              0.7777777777777778,
              "#fb9f3a"
             ],
             [
              0.8888888888888888,
              "#fdca26"
             ],
             [
              1,
              "#f0f921"
             ]
            ],
            "type": "histogram2dcontour"
           }
          ],
          "mesh3d": [
           {
            "colorbar": {
             "outlinewidth": 0,
             "ticks": ""
            },
            "type": "mesh3d"
           }
          ],
          "parcoords": [
           {
            "line": {
             "colorbar": {
              "outlinewidth": 0,
              "ticks": ""
             }
            },
            "type": "parcoords"
           }
          ],
          "pie": [
           {
            "automargin": true,
            "type": "pie"
           }
          ],
          "scatter": [
           {
            "fillpattern": {
             "fillmode": "overlay",
             "size": 10,
             "solidity": 0.2
            },
            "type": "scatter"
           }
          ],
          "scatter3d": [
           {
            "line": {
             "colorbar": {
              "outlinewidth": 0,
              "ticks": ""
             }
            },
            "marker": {
             "colorbar": {
              "outlinewidth": 0,
              "ticks": ""
             }
            },
            "type": "scatter3d"
           }
          ],
          "scattercarpet": [
           {
            "marker": {
             "colorbar": {
              "outlinewidth": 0,
              "ticks": ""
             }
            },
            "type": "scattercarpet"
           }
          ],
          "scattergeo": [
           {
            "marker": {
             "colorbar": {
              "outlinewidth": 0,
              "ticks": ""
             }
            },
            "type": "scattergeo"
           }
          ],
          "scattergl": [
           {
            "marker": {
             "colorbar": {
              "outlinewidth": 0,
              "ticks": ""
             }
            },
            "type": "scattergl"
           }
          ],
          "scattermapbox": [
           {
            "marker": {
             "colorbar": {
              "outlinewidth": 0,
              "ticks": ""
             }
            },
            "type": "scattermapbox"
           }
          ],
          "scatterpolar": [
           {
            "marker": {
             "colorbar": {
              "outlinewidth": 0,
              "ticks": ""
             }
            },
            "type": "scatterpolar"
           }
          ],
          "scatterpolargl": [
           {
            "marker": {
             "colorbar": {
              "outlinewidth": 0,
              "ticks": ""
             }
            },
            "type": "scatterpolargl"
           }
          ],
          "scatterternary": [
           {
            "marker": {
             "colorbar": {
              "outlinewidth": 0,
              "ticks": ""
             }
            },
            "type": "scatterternary"
           }
          ],
          "surface": [
           {
            "colorbar": {
             "outlinewidth": 0,
             "ticks": ""
            },
            "colorscale": [
             [
              0,
              "#0d0887"
             ],
             [
              0.1111111111111111,
              "#46039f"
             ],
             [
              0.2222222222222222,
              "#7201a8"
             ],
             [
              0.3333333333333333,
              "#9c179e"
             ],
             [
              0.4444444444444444,
              "#bd3786"
             ],
             [
              0.5555555555555556,
              "#d8576b"
             ],
             [
              0.6666666666666666,
              "#ed7953"
             ],
             [
              0.7777777777777778,
              "#fb9f3a"
             ],
             [
              0.8888888888888888,
              "#fdca26"
             ],
             [
              1,
              "#f0f921"
             ]
            ],
            "type": "surface"
           }
          ],
          "table": [
           {
            "cells": {
             "fill": {
              "color": "#EBF0F8"
             },
             "line": {
              "color": "white"
             }
            },
            "header": {
             "fill": {
              "color": "#C8D4E3"
             },
             "line": {
              "color": "white"
             }
            },
            "type": "table"
           }
          ]
         },
         "layout": {
          "annotationdefaults": {
           "arrowcolor": "#2a3f5f",
           "arrowhead": 0,
           "arrowwidth": 1
          },
          "autotypenumbers": "strict",
          "coloraxis": {
           "colorbar": {
            "outlinewidth": 0,
            "ticks": ""
           }
          },
          "colorscale": {
           "diverging": [
            [
             0,
             "#8e0152"
            ],
            [
             0.1,
             "#c51b7d"
            ],
            [
             0.2,
             "#de77ae"
            ],
            [
             0.3,
             "#f1b6da"
            ],
            [
             0.4,
             "#fde0ef"
            ],
            [
             0.5,
             "#f7f7f7"
            ],
            [
             0.6,
             "#e6f5d0"
            ],
            [
             0.7,
             "#b8e186"
            ],
            [
             0.8,
             "#7fbc41"
            ],
            [
             0.9,
             "#4d9221"
            ],
            [
             1,
             "#276419"
            ]
           ],
           "sequential": [
            [
             0,
             "#0d0887"
            ],
            [
             0.1111111111111111,
             "#46039f"
            ],
            [
             0.2222222222222222,
             "#7201a8"
            ],
            [
             0.3333333333333333,
             "#9c179e"
            ],
            [
             0.4444444444444444,
             "#bd3786"
            ],
            [
             0.5555555555555556,
             "#d8576b"
            ],
            [
             0.6666666666666666,
             "#ed7953"
            ],
            [
             0.7777777777777778,
             "#fb9f3a"
            ],
            [
             0.8888888888888888,
             "#fdca26"
            ],
            [
             1,
             "#f0f921"
            ]
           ],
           "sequentialminus": [
            [
             0,
             "#0d0887"
            ],
            [
             0.1111111111111111,
             "#46039f"
            ],
            [
             0.2222222222222222,
             "#7201a8"
            ],
            [
             0.3333333333333333,
             "#9c179e"
            ],
            [
             0.4444444444444444,
             "#bd3786"
            ],
            [
             0.5555555555555556,
             "#d8576b"
            ],
            [
             0.6666666666666666,
             "#ed7953"
            ],
            [
             0.7777777777777778,
             "#fb9f3a"
            ],
            [
             0.8888888888888888,
             "#fdca26"
            ],
            [
             1,
             "#f0f921"
            ]
           ]
          },
          "colorway": [
           "#636efa",
           "#EF553B",
           "#00cc96",
           "#ab63fa",
           "#FFA15A",
           "#19d3f3",
           "#FF6692",
           "#B6E880",
           "#FF97FF",
           "#FECB52"
          ],
          "font": {
           "color": "#2a3f5f"
          },
          "geo": {
           "bgcolor": "white",
           "lakecolor": "white",
           "landcolor": "#E5ECF6",
           "showlakes": true,
           "showland": true,
           "subunitcolor": "white"
          },
          "hoverlabel": {
           "align": "left"
          },
          "hovermode": "closest",
          "mapbox": {
           "style": "light"
          },
          "paper_bgcolor": "white",
          "plot_bgcolor": "#E5ECF6",
          "polar": {
           "angularaxis": {
            "gridcolor": "white",
            "linecolor": "white",
            "ticks": ""
           },
           "bgcolor": "#E5ECF6",
           "radialaxis": {
            "gridcolor": "white",
            "linecolor": "white",
            "ticks": ""
           }
          },
          "scene": {
           "xaxis": {
            "backgroundcolor": "#E5ECF6",
            "gridcolor": "white",
            "gridwidth": 2,
            "linecolor": "white",
            "showbackground": true,
            "ticks": "",
            "zerolinecolor": "white"
           },
           "yaxis": {
            "backgroundcolor": "#E5ECF6",
            "gridcolor": "white",
            "gridwidth": 2,
            "linecolor": "white",
            "showbackground": true,
            "ticks": "",
            "zerolinecolor": "white"
           },
           "zaxis": {
            "backgroundcolor": "#E5ECF6",
            "gridcolor": "white",
            "gridwidth": 2,
            "linecolor": "white",
            "showbackground": true,
            "ticks": "",
            "zerolinecolor": "white"
           }
          },
          "shapedefaults": {
           "line": {
            "color": "#2a3f5f"
           }
          },
          "ternary": {
           "aaxis": {
            "gridcolor": "white",
            "linecolor": "white",
            "ticks": ""
           },
           "baxis": {
            "gridcolor": "white",
            "linecolor": "white",
            "ticks": ""
           },
           "bgcolor": "#E5ECF6",
           "caxis": {
            "gridcolor": "white",
            "linecolor": "white",
            "ticks": ""
           }
          },
          "title": {
           "x": 0.05
          },
          "xaxis": {
           "automargin": true,
           "gridcolor": "white",
           "linecolor": "white",
           "ticks": "",
           "title": {
            "standoff": 15
           },
           "zerolinecolor": "white",
           "zerolinewidth": 2
          },
          "yaxis": {
           "automargin": true,
           "gridcolor": "white",
           "linecolor": "white",
           "ticks": "",
           "title": {
            "standoff": 15
           },
           "zerolinecolor": "white",
           "zerolinewidth": 2
          }
         }
        },
        "xaxis": {
         "anchor": "y",
         "domain": [
          0,
          1
         ],
         "title": {
          "text": "variable"
         }
        },
        "yaxis": {
         "anchor": "x",
         "domain": [
          0,
          1
         ],
         "title": {
          "text": "value"
         }
        }
       }
      }
     },
     "metadata": {},
     "output_type": "display_data"
    }
   ],
   "source": [
    "# gráfico de cajas de la variable age\n",
    "px.box(credit[\"age\"])"
   ]
  },
  {
   "cell_type": "code",
   "execution_count": 17,
   "metadata": {
    "id": "UhiyB8kRFOy-"
   },
   "outputs": [],
   "source": [
    "credit = credit[credit[\"age\"]>=18]"
   ]
  },
  {
   "cell_type": "code",
   "execution_count": 18,
   "metadata": {
    "colab": {
     "base_uri": "https://localhost:8080/"
    },
    "executionInfo": {
     "elapsed": 7,
     "status": "ok",
     "timestamp": 1752918700469,
     "user": {
      "displayName": "FABIAN SANCHEZ SALAZAR",
      "userId": "15142555099295306735"
     },
     "user_tz": 300
    },
    "id": "35qvf1yMFgbr",
    "outputId": "f840ef2c-876f-4895-bc67-5bb9a769e2c4"
   },
   "outputs": [
    {
     "name": "stdout",
     "output_type": "stream",
     "text": [
      "<class 'pandas.core.frame.DataFrame'>\n",
      "Int64Index: 1310 entries, 0 to 1318\n",
      "Data columns (total 12 columns):\n",
      " #   Column       Non-Null Count  Dtype  \n",
      "---  ------       --------------  -----  \n",
      " 0   card         1310 non-null   object \n",
      " 1   reports      1310 non-null   int64  \n",
      " 2   age          1310 non-null   float64\n",
      " 3   income       1310 non-null   float64\n",
      " 4   share        1310 non-null   float64\n",
      " 5   expenditure  1310 non-null   float64\n",
      " 6   owner        1310 non-null   object \n",
      " 7   selfemp      1310 non-null   object \n",
      " 8   dependents   1310 non-null   int64  \n",
      " 9   months       1310 non-null   object \n",
      " 10  majorcards   1310 non-null   int64  \n",
      " 11  active       1310 non-null   int64  \n",
      "dtypes: float64(4), int64(4), object(4)\n",
      "memory usage: 133.0+ KB\n"
     ]
    }
   ],
   "source": [
    "credit.info()"
   ]
  },
  {
   "cell_type": "markdown",
   "metadata": {
    "id": "HX8pvYoP99yE"
   },
   "source": [
    "## <FONT SIZE=5 COLOR=\"blue\"> 1.3 Alistamiento de los datos</FONT>"
   ]
  },
  {
   "cell_type": "markdown",
   "metadata": {
    "id": "mOQ49IQ8-jLz"
   },
   "source": [
    "1. A primera vista, del resultado del método `info()`, se puede observar que hacen falta 2 valores en la variable `age`. Al ser numérica, se sustituirá por el promedio de la variable."
   ]
  },
  {
   "cell_type": "code",
   "execution_count": 19,
   "metadata": {
    "colab": {
     "base_uri": "https://localhost:8080/"
    },
    "executionInfo": {
     "elapsed": 5,
     "status": "ok",
     "timestamp": 1752918713034,
     "user": {
      "displayName": "FABIAN SANCHEZ SALAZAR",
      "userId": "15142555099295306735"
     },
     "user_tz": 300
    },
    "id": "wbDOOmkb-gj3",
    "outputId": "f5393041-80a1-49e3-b9f0-fb3bacc0aed6"
   },
   "outputs": [
    {
     "name": "stdout",
     "output_type": "stream",
     "text": [
      "<class 'pandas.core.frame.DataFrame'>\n",
      "Int64Index: 1310 entries, 0 to 1318\n",
      "Data columns (total 12 columns):\n",
      " #   Column       Non-Null Count  Dtype  \n",
      "---  ------       --------------  -----  \n",
      " 0   card         1310 non-null   object \n",
      " 1   reports      1310 non-null   int64  \n",
      " 2   age          1310 non-null   float64\n",
      " 3   income       1310 non-null   float64\n",
      " 4   share        1310 non-null   float64\n",
      " 5   expenditure  1310 non-null   float64\n",
      " 6   owner        1310 non-null   object \n",
      " 7   selfemp      1310 non-null   object \n",
      " 8   dependents   1310 non-null   int64  \n",
      " 9   months       1310 non-null   object \n",
      " 10  majorcards   1310 non-null   int64  \n",
      " 11  active       1310 non-null   int64  \n",
      "dtypes: float64(4), int64(4), object(4)\n",
      "memory usage: 133.0+ KB\n"
     ]
    }
   ],
   "source": [
    "credit['age'].fillna(credit['age'].mean(), inplace=True)\n",
    "credit.info()"
   ]
  },
  {
   "cell_type": "markdown",
   "metadata": {
    "id": "AiPwYjFd-wIe"
   },
   "source": [
    "2. Debemos unificar los nombres de las categorias de la variable card y además convertir en 1 y 0 las categorias de las variables \"owner\" y \"selftemp\""
   ]
  },
  {
   "cell_type": "code",
   "execution_count": 20,
   "metadata": {
    "id": "53-sBWn5oSax"
   },
   "outputs": [],
   "source": [
    "# vamos a unificar los nombre de las categorias y cambiar por 1 y 0\n",
    "\n",
    "# variable card\n",
    "credit['card'] = credit['card'].apply(lambda x: 1 if x in ['yes','Yes'] else 0)\n",
    "\n",
    "# variable owner\n",
    "credit['owner'] = credit['owner'].apply(lambda x: 1 if x=='yes' else 0)\n",
    "\n",
    "#variable selftemp\n",
    "credit['selfemp'] = credit['selfemp'].apply(lambda x: 1 if x=='yes' else 0)\n"
   ]
  },
  {
   "cell_type": "code",
   "execution_count": 21,
   "metadata": {
    "colab": {
     "base_uri": "https://localhost:8080/"
    },
    "executionInfo": {
     "elapsed": 5,
     "status": "ok",
     "timestamp": 1752918718134,
     "user": {
      "displayName": "FABIAN SANCHEZ SALAZAR",
      "userId": "15142555099295306735"
     },
     "user_tz": 300
    },
    "id": "pT9M1t-G-Xzr",
    "outputId": "687eb2ae-d8f2-4256-b272-d803995109b1"
   },
   "outputs": [
    {
     "name": "stdout",
     "output_type": "stream",
     "text": [
      "<class 'pandas.core.frame.DataFrame'>\n",
      "Int64Index: 1310 entries, 0 to 1318\n",
      "Data columns (total 12 columns):\n",
      " #   Column       Non-Null Count  Dtype  \n",
      "---  ------       --------------  -----  \n",
      " 0   card         1310 non-null   int64  \n",
      " 1   reports      1310 non-null   int64  \n",
      " 2   age          1310 non-null   float64\n",
      " 3   income       1310 non-null   float64\n",
      " 4   share        1310 non-null   float64\n",
      " 5   expenditure  1310 non-null   float64\n",
      " 6   owner        1310 non-null   int64  \n",
      " 7   selfemp      1310 non-null   int64  \n",
      " 8   dependents   1310 non-null   int64  \n",
      " 9   months       1310 non-null   object \n",
      " 10  majorcards   1310 non-null   int64  \n",
      " 11  active       1310 non-null   int64  \n",
      "dtypes: float64(4), int64(7), object(1)\n",
      "memory usage: 133.0+ KB\n"
     ]
    }
   ],
   "source": [
    "credit.info()"
   ]
  },
  {
   "cell_type": "markdown",
   "metadata": {
    "id": "QQ4XPDdXoaiJ"
   },
   "source": [
    "3. Al momento de digitar algunos valores numéricos de la variable \"month\", la persona se equivocó y digitó algunas letras. En la variable `months` existen valores como '12o', que es de suponer que corresponde a 120, por lo que habría que convertirlo, para posteriormente convertir toda la variable a tipo entero. En general el procedimiento aquí sería convertir las 'o' por '0'."
   ]
  },
  {
   "cell_type": "code",
   "execution_count": 22,
   "metadata": {
    "id": "btfIZINKodbB"
   },
   "outputs": [],
   "source": [
    "# cambiar las letras por números\n",
    "credit['months'] = credit['months'].apply(lambda x: x.replace('o','0'))\n",
    "# convertir months a numérica\n",
    "credit['months'] = credit['months'].astype(int)"
   ]
  },
  {
   "cell_type": "code",
   "execution_count": 23,
   "metadata": {
    "colab": {
     "base_uri": "https://localhost:8080/"
    },
    "executionInfo": {
     "elapsed": 14,
     "status": "ok",
     "timestamp": 1752918723221,
     "user": {
      "displayName": "FABIAN SANCHEZ SALAZAR",
      "userId": "15142555099295306735"
     },
     "user_tz": 300
    },
    "id": "2B1aY9kuwF-N",
    "outputId": "eb296fe7-c411-46e2-ffb3-a6a467753ab3"
   },
   "outputs": [
    {
     "name": "stdout",
     "output_type": "stream",
     "text": [
      "<class 'pandas.core.frame.DataFrame'>\n",
      "Int64Index: 1310 entries, 0 to 1318\n",
      "Data columns (total 12 columns):\n",
      " #   Column       Non-Null Count  Dtype  \n",
      "---  ------       --------------  -----  \n",
      " 0   card         1310 non-null   int64  \n",
      " 1   reports      1310 non-null   int64  \n",
      " 2   age          1310 non-null   float64\n",
      " 3   income       1310 non-null   float64\n",
      " 4   share        1310 non-null   float64\n",
      " 5   expenditure  1310 non-null   float64\n",
      " 6   owner        1310 non-null   int64  \n",
      " 7   selfemp      1310 non-null   int64  \n",
      " 8   dependents   1310 non-null   int64  \n",
      " 9   months       1310 non-null   int64  \n",
      " 10  majorcards   1310 non-null   int64  \n",
      " 11  active       1310 non-null   int64  \n",
      "dtypes: float64(4), int64(8)\n",
      "memory usage: 133.0 KB\n"
     ]
    }
   ],
   "source": [
    "credit.info()"
   ]
  },
  {
   "cell_type": "markdown",
   "metadata": {
    "id": "udNRYt9n_UKn"
   },
   "source": [
    "Hasta acá tenemos una nueva aproximación de datos limpios y continuamos a nuestra siguiente etapa."
   ]
  },
  {
   "cell_type": "markdown",
   "metadata": {
    "id": "NI9ufdR3oiz_"
   },
   "source": [
    "## <FONT SIZE=5 COLOR=\"blue\"> 1.4 Definir las variables, conjuntos de entrenamiento y prueba y escalar </FONT>"
   ]
  },
  {
   "cell_type": "markdown",
   "metadata": {
    "id": "jWgvQCiy_i-F"
   },
   "source": [
    "Revisemos los datos"
   ]
  },
  {
   "cell_type": "code",
   "execution_count": 24,
   "metadata": {
    "colab": {
     "base_uri": "https://localhost:8080/",
     "height": 206
    },
    "executionInfo": {
     "elapsed": 30,
     "status": "ok",
     "timestamp": 1752918726884,
     "user": {
      "displayName": "FABIAN SANCHEZ SALAZAR",
      "userId": "15142555099295306735"
     },
     "user_tz": 300
    },
    "id": "s6F8WBmA2wDn",
    "outputId": "177cf6db-0e12-462b-e070-aff7372219f2"
   },
   "outputs": [
    {
     "data": {
      "text/html": [
       "<div>\n",
       "<style scoped>\n",
       "    .dataframe tbody tr th:only-of-type {\n",
       "        vertical-align: middle;\n",
       "    }\n",
       "\n",
       "    .dataframe tbody tr th {\n",
       "        vertical-align: top;\n",
       "    }\n",
       "\n",
       "    .dataframe thead th {\n",
       "        text-align: right;\n",
       "    }\n",
       "</style>\n",
       "<table border=\"1\" class=\"dataframe\">\n",
       "  <thead>\n",
       "    <tr style=\"text-align: right;\">\n",
       "      <th></th>\n",
       "      <th>card</th>\n",
       "      <th>reports</th>\n",
       "      <th>age</th>\n",
       "      <th>income</th>\n",
       "      <th>share</th>\n",
       "      <th>expenditure</th>\n",
       "      <th>owner</th>\n",
       "      <th>selfemp</th>\n",
       "      <th>dependents</th>\n",
       "      <th>months</th>\n",
       "      <th>majorcards</th>\n",
       "      <th>active</th>\n",
       "    </tr>\n",
       "  </thead>\n",
       "  <tbody>\n",
       "    <tr>\n",
       "      <th>0</th>\n",
       "      <td>1</td>\n",
       "      <td>0</td>\n",
       "      <td>37.66667</td>\n",
       "      <td>4.5200</td>\n",
       "      <td>0.033270</td>\n",
       "      <td>124.983300</td>\n",
       "      <td>1</td>\n",
       "      <td>0</td>\n",
       "      <td>3</td>\n",
       "      <td>54</td>\n",
       "      <td>1</td>\n",
       "      <td>12</td>\n",
       "    </tr>\n",
       "    <tr>\n",
       "      <th>1</th>\n",
       "      <td>1</td>\n",
       "      <td>0</td>\n",
       "      <td>33.25000</td>\n",
       "      <td>2.4200</td>\n",
       "      <td>0.005217</td>\n",
       "      <td>9.854167</td>\n",
       "      <td>0</td>\n",
       "      <td>0</td>\n",
       "      <td>3</td>\n",
       "      <td>34</td>\n",
       "      <td>1</td>\n",
       "      <td>13</td>\n",
       "    </tr>\n",
       "    <tr>\n",
       "      <th>2</th>\n",
       "      <td>1</td>\n",
       "      <td>0</td>\n",
       "      <td>33.66667</td>\n",
       "      <td>4.5000</td>\n",
       "      <td>0.004156</td>\n",
       "      <td>15.000000</td>\n",
       "      <td>1</td>\n",
       "      <td>0</td>\n",
       "      <td>4</td>\n",
       "      <td>58</td>\n",
       "      <td>1</td>\n",
       "      <td>5</td>\n",
       "    </tr>\n",
       "    <tr>\n",
       "      <th>3</th>\n",
       "      <td>1</td>\n",
       "      <td>0</td>\n",
       "      <td>30.50000</td>\n",
       "      <td>2.5400</td>\n",
       "      <td>0.065214</td>\n",
       "      <td>137.869200</td>\n",
       "      <td>0</td>\n",
       "      <td>0</td>\n",
       "      <td>0</td>\n",
       "      <td>25</td>\n",
       "      <td>1</td>\n",
       "      <td>7</td>\n",
       "    </tr>\n",
       "    <tr>\n",
       "      <th>4</th>\n",
       "      <td>1</td>\n",
       "      <td>0</td>\n",
       "      <td>32.16667</td>\n",
       "      <td>9.7867</td>\n",
       "      <td>0.067051</td>\n",
       "      <td>546.503300</td>\n",
       "      <td>1</td>\n",
       "      <td>0</td>\n",
       "      <td>2</td>\n",
       "      <td>64</td>\n",
       "      <td>1</td>\n",
       "      <td>5</td>\n",
       "    </tr>\n",
       "  </tbody>\n",
       "</table>\n",
       "</div>"
      ],
      "text/plain": [
       "   card  reports       age  income     share  expenditure  owner  selfemp  \\\n",
       "0     1        0  37.66667  4.5200  0.033270   124.983300      1        0   \n",
       "1     1        0  33.25000  2.4200  0.005217     9.854167      0        0   \n",
       "2     1        0  33.66667  4.5000  0.004156    15.000000      1        0   \n",
       "3     1        0  30.50000  2.5400  0.065214   137.869200      0        0   \n",
       "4     1        0  32.16667  9.7867  0.067051   546.503300      1        0   \n",
       "\n",
       "   dependents  months  majorcards  active  \n",
       "0           3      54           1      12  \n",
       "1           3      34           1      13  \n",
       "2           4      58           1       5  \n",
       "3           0      25           1       7  \n",
       "4           2      64           1       5  "
      ]
     },
     "execution_count": 24,
     "metadata": {},
     "output_type": "execute_result"
    }
   ],
   "source": [
    "credit.head()"
   ]
  },
  {
   "cell_type": "markdown",
   "metadata": {
    "id": "bXVIXrf__mgx"
   },
   "source": [
    "Lo primero que vamos a hacer es separar las columnas que representan variables continuas y las que son categóricas."
   ]
  },
  {
   "cell_type": "code",
   "execution_count": 25,
   "metadata": {
    "colab": {
     "base_uri": "https://localhost:8080/"
    },
    "executionInfo": {
     "elapsed": 5,
     "status": "ok",
     "timestamp": 1752918730824,
     "user": {
      "displayName": "FABIAN SANCHEZ SALAZAR",
      "userId": "15142555099295306735"
     },
     "user_tz": 300
    },
    "id": "XeLvLMob3-Tv",
    "outputId": "16a6e7f6-934b-4aa5-b4e3-85779361ce1f"
   },
   "outputs": [
    {
     "data": {
      "text/plain": [
       "Index(['card', 'reports', 'age', 'income', 'share', 'expenditure', 'owner',\n",
       "       'selfemp', 'dependents', 'months', 'majorcards', 'active'],\n",
       "      dtype='object')"
      ]
     },
     "execution_count": 25,
     "metadata": {},
     "output_type": "execute_result"
    }
   ],
   "source": [
    "# nombre de las columnas\n",
    "credit.columns"
   ]
  },
  {
   "cell_type": "code",
   "execution_count": 26,
   "metadata": {
    "colab": {
     "base_uri": "https://localhost:8080/"
    },
    "executionInfo": {
     "elapsed": 5,
     "status": "ok",
     "timestamp": 1752918732500,
     "user": {
      "displayName": "FABIAN SANCHEZ SALAZAR",
      "userId": "15142555099295306735"
     },
     "user_tz": 300
    },
    "id": "nAIVAlET4DOH",
    "outputId": "10388d65-8b00-4e3c-b3ad-cf0c7c0d4110"
   },
   "outputs": [
    {
     "data": {
      "text/plain": [
       "Index(['reports', 'age', 'income', 'share', 'expenditure', 'dependents',\n",
       "       'months', 'majorcards', 'active'],\n",
       "      dtype='object')"
      ]
     },
     "execution_count": 26,
     "metadata": {},
     "output_type": "execute_result"
    }
   ],
   "source": [
    "variables_num = credit.drop([\"card\",\"owner\",\"selfemp\"], axis =1).columns\n",
    "variables_num"
   ]
  },
  {
   "cell_type": "code",
   "execution_count": 27,
   "metadata": {
    "colab": {
     "base_uri": "https://localhost:8080/"
    },
    "executionInfo": {
     "elapsed": 8,
     "status": "ok",
     "timestamp": 1752918734618,
     "user": {
      "displayName": "FABIAN SANCHEZ SALAZAR",
      "userId": "15142555099295306735"
     },
     "user_tz": 300
    },
    "id": "SH2YbO-t5Cxv",
    "outputId": "66313f0b-c31a-43a1-a87b-8b37106c9f2e"
   },
   "outputs": [
    {
     "data": {
      "text/plain": [
       "['owner', 'selfemp']"
      ]
     },
     "execution_count": 27,
     "metadata": {},
     "output_type": "execute_result"
    }
   ],
   "source": [
    "variables_cat = [\"owner\", \"selfemp\"]\n",
    "variables_cat"
   ]
  },
  {
   "cell_type": "code",
   "execution_count": 28,
   "metadata": {
    "id": "df8isN4Tomuk"
   },
   "outputs": [],
   "source": [
    "# Dividir en dos conjuntos\n",
    "# las variables predictoras\n",
    "X = credit.drop(\"card\", axis=1)\n",
    "# la variable objetivo\n",
    "y = credit[\"card\"]\n",
    "# conjunto de entrenamiento y de prueba\n",
    "X_train, X_test, y_train, y_test = train_test_split(X,                        # variables predictoras\n",
    "                                                    y,                        # variable de respuesta\n",
    "                                                    stratify=y,               # estratificamos con respecto a y (asegura que se mantenga la proporción de clases en y)\n",
    "                                                    random_state = 0,         # semilla para que al ejecutar siempre de igual\n",
    "                                                    test_size = 0.3)          # tamaño del conjunto de prueba\n",
    "\n",
    "# Definitmos el preprocesador de escalamiento\n",
    "preprocessor = ColumnTransformer(transformers=[\n",
    "    ('num', StandardScaler(), variables_num),\n",
    "    ('cat', 'passthrough', variables_cat)\n",
    "])"
   ]
  },
  {
   "cell_type": "markdown",
   "metadata": {
    "id": "SXYMePv1CI5Q"
   },
   "source": [
    "## <FONT SIZE=5 COLOR=\"blue\"> 1.5 Generar los modelos de clasificación </FONT>\n",
    "\n",
    "En esta sección usaremos los algoritmos:\n",
    "\n",
    "- k-vecinos más cercanos\n",
    "- regresión logística\n",
    "- árboles de decisión"
   ]
  },
  {
   "cell_type": "markdown",
   "metadata": {
    "id": "zjiss7EUxIFh"
   },
   "source": [
    "### <FONT SIZE=5 COLOR=\"magenta\"> K-vecinos más cercanos </FONT>"
   ]
  },
  {
   "cell_type": "code",
   "execution_count": 29,
   "metadata": {
    "id": "LA6qDkjWoq0c"
   },
   "outputs": [],
   "source": [
    "# definimos el modelo de vecinos más cercanos\n",
    "KNN = Pipeline(steps=[\n",
    "      ('preprocessor', preprocessor),\n",
    "      ('classifier', KNeighborsClassifier(n_neighbors = 10,\n",
    "                                          metric = 'euclidean'))\n",
    "      ])\n",
    "# entrenamos el modelo\n",
    "KNN.fit(X_train,y_train)\n",
    "# se utiliza la función .predict\n",
    "y_pred_knn = KNN.predict(X_test)\n"
   ]
  },
  {
   "cell_type": "code",
   "execution_count": 30,
   "metadata": {
    "colab": {
     "base_uri": "https://localhost:8080/"
    },
    "executionInfo": {
     "elapsed": 9,
     "status": "ok",
     "timestamp": 1752919127926,
     "user": {
      "displayName": "FABIAN SANCHEZ SALAZAR",
      "userId": "15142555099295306735"
     },
     "user_tz": 300
    },
    "id": "o2dvYHmGGc2P",
    "outputId": "e21c47c0-eb98-49f6-c3f1-d200bbf785fb"
   },
   "outputs": [
    {
     "data": {
      "text/plain": [
       "array([0, 1, 1, 0, 1, 0, 1, 1, 1, 1, 1, 1, 1, 1, 1, 1, 0, 0, 1, 1, 1, 1,\n",
       "       1, 1, 1, 1, 1, 1, 1, 1, 1, 1, 1, 1, 1, 1, 0, 1, 1, 1, 1, 0, 1, 1,\n",
       "       1, 1, 0, 1, 1, 1, 1, 1, 1, 1, 1, 1, 1, 1, 1, 1, 0, 1, 1, 1, 0, 1,\n",
       "       1, 1, 1, 0, 1, 1, 1, 1, 1, 0, 1, 1, 1, 1, 1, 1, 1, 1, 1, 1, 1, 1,\n",
       "       1, 1, 1, 0, 1, 0, 1, 0, 0, 1, 1, 1, 1, 1, 1, 0, 1, 0, 1, 1, 1, 1,\n",
       "       1, 1, 1, 1, 1, 1, 1, 1, 1, 1, 1, 1, 1, 1, 1, 1, 1, 0, 1, 1, 1, 1,\n",
       "       1, 1, 1, 1, 1, 1, 1, 1, 1, 1, 1, 0, 0, 1, 1, 1, 1, 0, 1, 1, 1, 0,\n",
       "       1, 1, 1, 1, 0, 0, 0, 1, 1, 1, 1, 1, 1, 0, 1, 1, 0, 1, 0, 1, 1, 0,\n",
       "       1, 1, 1, 1, 0, 1, 1, 1, 1, 1, 1, 1, 0, 1, 1, 1, 1, 1, 1, 1, 1, 1,\n",
       "       1, 1, 1, 1, 1, 0, 1, 0, 0, 1, 1, 0, 1, 1, 1, 1, 1, 1, 0, 1, 1, 0,\n",
       "       1, 1, 1, 1, 1, 1, 1, 1, 1, 1, 1, 1, 0, 1, 0, 1, 1, 1, 1, 0, 1, 1,\n",
       "       1, 1, 1, 1, 1, 0, 1, 1, 0, 1, 1, 1, 0, 0, 1, 1, 0, 0, 1, 1, 1, 1,\n",
       "       1, 1, 1, 1, 1, 0, 1, 1, 1, 1, 1, 0, 1, 1, 1, 1, 0, 1, 0, 1, 1, 0,\n",
       "       1, 0, 1, 1, 1, 0, 1, 1, 1, 1, 1, 1, 0, 1, 1, 1, 1, 1, 1, 1, 1, 1,\n",
       "       1, 1, 1, 1, 1, 1, 1, 0, 1, 0, 0, 1, 1, 1, 1, 1, 1, 1, 1, 1, 1, 1,\n",
       "       1, 1, 1, 1, 1, 1, 1, 0, 0, 0, 1, 1, 1, 0, 1, 1, 1, 0, 0, 1, 1, 1,\n",
       "       1, 0, 1, 1, 0, 1, 1, 1, 0, 1, 1, 1, 1, 0, 1, 1, 1, 0, 1, 1, 1, 1,\n",
       "       1, 1, 1, 1, 1, 1, 1, 1, 1, 1, 1, 1, 1, 1, 1, 1, 1, 1, 0])"
      ]
     },
     "execution_count": 30,
     "metadata": {},
     "output_type": "execute_result"
    }
   ],
   "source": [
    "y_pred_knn"
   ]
  },
  {
   "cell_type": "code",
   "execution_count": 31,
   "metadata": {
    "colab": {
     "base_uri": "https://localhost:8080/"
    },
    "executionInfo": {
     "elapsed": 4,
     "status": "ok",
     "timestamp": 1752918792375,
     "user": {
      "displayName": "FABIAN SANCHEZ SALAZAR",
      "userId": "15142555099295306735"
     },
     "user_tz": 300
    },
    "id": "1AMN11JtGeZF",
    "outputId": "31324e68-6754-44a0-c1b8-e8868b1ea374"
   },
   "outputs": [
    {
     "data": {
      "text/plain": [
       "array([0, 1, 1, 0, 1, 1, 1, 1, 1, 1, 1, 1, 1, 1, 0, 1, 0, 0, 1, 0, 1, 1,\n",
       "       1, 1, 1, 1, 1, 1, 1, 1, 1, 1, 1, 1, 1, 1, 0, 1, 1, 1, 1, 0, 1, 1,\n",
       "       1, 1, 1, 1, 1, 1, 1, 1, 1, 1, 1, 1, 1, 1, 1, 1, 1, 1, 1, 1, 0, 0,\n",
       "       1, 1, 1, 0, 1, 1, 1, 1, 1, 0, 1, 1, 1, 1, 1, 1, 1, 1, 0, 1, 1, 1,\n",
       "       1, 1, 1, 0, 0, 0, 1, 1, 0, 1, 1, 1, 0, 1, 1, 0, 1, 0, 1, 1, 1, 1,\n",
       "       1, 1, 1, 1, 1, 1, 1, 1, 1, 1, 1, 1, 1, 1, 0, 0, 1, 0, 1, 1, 1, 0,\n",
       "       1, 1, 1, 1, 0, 1, 1, 1, 1, 1, 1, 0, 0, 1, 1, 1, 1, 1, 1, 1, 1, 1,\n",
       "       1, 0, 0, 0, 0, 0, 0, 1, 1, 1, 1, 1, 1, 0, 1, 1, 0, 1, 1, 1, 1, 1,\n",
       "       1, 1, 1, 1, 1, 1, 1, 1, 1, 1, 1, 1, 0, 0, 1, 1, 0, 1, 1, 1, 1, 1,\n",
       "       1, 1, 1, 0, 1, 0, 1, 0, 0, 1, 1, 0, 1, 1, 1, 1, 1, 0, 0, 1, 1, 0,\n",
       "       1, 1, 1, 1, 1, 1, 1, 1, 1, 1, 1, 1, 0, 1, 1, 1, 1, 1, 1, 1, 1, 1,\n",
       "       1, 1, 1, 1, 1, 0, 1, 1, 0, 1, 1, 1, 0, 0, 1, 1, 0, 0, 1, 1, 1, 0,\n",
       "       0, 1, 1, 1, 1, 0, 1, 1, 1, 0, 1, 0, 1, 1, 1, 1, 1, 1, 0, 1, 1, 0,\n",
       "       1, 0, 0, 0, 1, 1, 1, 0, 1, 1, 0, 1, 0, 1, 1, 1, 1, 1, 1, 1, 1, 1,\n",
       "       1, 1, 1, 1, 1, 1, 1, 0, 1, 0, 0, 1, 1, 1, 1, 0, 1, 0, 1, 1, 1, 1,\n",
       "       1, 1, 1, 1, 1, 1, 1, 0, 0, 0, 1, 1, 1, 0, 1, 1, 1, 0, 1, 1, 1, 0,\n",
       "       1, 0, 1, 1, 0, 1, 0, 1, 0, 1, 1, 1, 1, 0, 1, 0, 1, 0, 0, 1, 1, 1,\n",
       "       1, 1, 1, 1, 0, 1, 1, 1, 1, 0, 1, 1, 0, 1, 1, 1, 1, 1, 1])"
      ]
     },
     "execution_count": 31,
     "metadata": {},
     "output_type": "execute_result"
    }
   ],
   "source": [
    "np.array(y_test)"
   ]
  },
  {
   "cell_type": "markdown",
   "metadata": {
    "id": "i6SzyIkpGiY_"
   },
   "source": [
    "La matriz de confusión compara los valores reales y los valores de predicción."
   ]
  },
  {
   "cell_type": "code",
   "execution_count": 32,
   "metadata": {
    "colab": {
     "base_uri": "https://localhost:8080/",
     "height": 698
    },
    "executionInfo": {
     "elapsed": 326,
     "status": "ok",
     "timestamp": 1752919170328,
     "user": {
      "displayName": "FABIAN SANCHEZ SALAZAR",
      "userId": "15142555099295306735"
     },
     "user_tz": 300
    },
    "id": "jbDfAoleEetD",
    "outputId": "892718a1-bb3c-49fe-f331-fcea1f886547"
   },
   "outputs": [
    {
     "data": {
      "text/html": [
       "<div>\n",
       "<style scoped>\n",
       "    .dataframe tbody tr th:only-of-type {\n",
       "        vertical-align: middle;\n",
       "    }\n",
       "\n",
       "    .dataframe tbody tr th {\n",
       "        vertical-align: top;\n",
       "    }\n",
       "\n",
       "    .dataframe thead th {\n",
       "        text-align: right;\n",
       "    }\n",
       "</style>\n",
       "<table border=\"1\" class=\"dataframe\">\n",
       "  <thead>\n",
       "    <tr style=\"text-align: right;\">\n",
       "      <th></th>\n",
       "      <th>metrics</th>\n",
       "      <th>values</th>\n",
       "    </tr>\n",
       "  </thead>\n",
       "  <tbody>\n",
       "    <tr>\n",
       "      <th>0</th>\n",
       "      <td>accuracy</td>\n",
       "      <td>0.877863</td>\n",
       "    </tr>\n",
       "    <tr>\n",
       "      <th>1</th>\n",
       "      <td>recall</td>\n",
       "      <td>0.950820</td>\n",
       "    </tr>\n",
       "    <tr>\n",
       "      <th>2</th>\n",
       "      <td>specificity</td>\n",
       "      <td>0.625000</td>\n",
       "    </tr>\n",
       "    <tr>\n",
       "      <th>3</th>\n",
       "      <td>precision</td>\n",
       "      <td>0.897833</td>\n",
       "    </tr>\n",
       "    <tr>\n",
       "      <th>4</th>\n",
       "      <td>f1</td>\n",
       "      <td>0.923567</td>\n",
       "    </tr>\n",
       "  </tbody>\n",
       "</table>\n",
       "</div>"
      ],
      "text/plain": [
       "       metrics    values\n",
       "0     accuracy  0.877863\n",
       "1       recall  0.950820\n",
       "2  specificity  0.625000\n",
       "3    precision  0.897833\n",
       "4           f1  0.923567"
      ]
     },
     "execution_count": 32,
     "metadata": {},
     "output_type": "execute_result"
    },
    {
     "data": {
      "image/png": "[encoded data removed]",
      "text/plain": [
       "<Figure size 640x480 with 2 Axes>"
      ]
     },
     "metadata": {},
     "output_type": "display_data"
    }
   ],
   "source": [
    "# Evaluamos el modelo\n",
    "metrics=[\"accuracy\", \"recall\" , \"specificity\", \"precision\", \"f1\"]\n",
    "# valores\n",
    "values = [accuracy_score(y_test,y_pred_knn),\n",
    "          recall_score(y_test,y_pred_knn),\n",
    "          specificity_score(y_test,y_pred_knn),\n",
    "          precision_score(y_test,y_pred_knn),\n",
    "          f1_score(y_test,y_pred_knn)]\n",
    "pd.DataFrame({\"metrics\": metrics , \"values\" : values})\n",
    "# matriz de confusión\n",
    "MC= confusion_matrix(y_test, y_pred_knn)\n",
    "p = sns.heatmap(pd.DataFrame(MC),                    # data.frame\n",
    "                annot=True,                          # colocar números de las cajitas\n",
    "                annot_kws = {'size':20},             # tamaño de la letra\n",
    "                cmap=\"YlOrRd\",                       # color de la letra 'Pastel1', 'Pastel1_r', 'Pastel2', 'Pastel2_r', 'PiYG', 'PiYG_r', 'PuBu'\n",
    "                fmt='g')                             # para que salgan los número no : notación científica\n",
    "plt.title('Matriz de Confusión KNN', y=1.1)\n",
    "plt.ylabel('Valores Reales')\n",
    "plt.xlabel('Predicciones');\n",
    "pd.DataFrame({\"metrics\": metrics , \"values\" : values})"
   ]
  },
  {
   "cell_type": "markdown",
   "metadata": {
    "id": "dUFBY8BOEtAp"
   },
   "source": [
    "<FONT SIZE=5 COLOR=\"purple\"> Sobre la Matriz de Confusión </FONT>\n",
    "\n",
    "En el campo del Machine Learning la **matriz de confusión** es una herramienta que permite visualizar el desempeño de un algoritmo de clasificación.\n",
    "\n",
    "- Las columnas de la matriz representa el número de predicciones de cada clase.\n",
    "\n",
    "- Las filas representan las instancias en la clase real.\n",
    "\n",
    "Esta matriz permite ver qué tipos de aciertos y errores está teniendo nuestro modelo a la hora de pasar por el proceso de aprendizaje con los datos.\n",
    "\n",
    "En el siguiente gráfico se muestra lo anterior\n",
    "\n",
    "<br>\n",
    "<center><img src=\"https://github.com/Fabian830348/cursos/blob/master/Imagen/metricas.png?raw=true\" alt=\"centered image\" width=\"500\" height=\"400\"></center>\n",
    "<br>\n",
    "\n",
    "Para entender la matriz de confusión veamos algunas definiciones:\n",
    "\n",
    "**Verdadero positivo:** El valor real es positivo y la prueba predice también que es positivo.\n",
    "\n",
    "- La persona estaba enferma y el modelo predice bien que estaba enferma. *Predicción correcta*\n",
    "\n",
    "**Verdadero negativo:** El valor real es negativo y la prueba predice también que el resultado es negativo.\n",
    "\n",
    "- La persona no está enferma y el modelo predice que no está enferma. *Predicción correcta*\n",
    "\n",
    "**Falso negativo:** El valor real es positivo, y la prueba predice que el resultado es negativo.\n",
    "\n",
    "- La persona esta enferma y el modelo predice que no lo está. *predicción incorrecta* : error tipo II\n",
    "\n",
    "**Falso positivo:** El valor real es negativo, y la prueba predice que el resultado es positivo.\n",
    "\n",
    "- La persona no está enferma y el modelo predice que lo está. *predicción incorrecta* : error tipo I\n",
    "\n",
    "Veamos las métricas que se utilizan para evaluar el modelo."
   ]
  },
  {
   "cell_type": "markdown",
   "metadata": {
    "id": "qAlTx8yyG7KZ"
   },
   "source": [
    "## <FONT SIZE=5 COLOR=\"green\"> Métricas Utilizadas para evaluar un modelo </FONT>\n",
    "\n",
    "<FONT SIZE=5 COLOR=\"green\"> 1. Accuracy (exactitud) </FONT>\n",
    "\n",
    "- Es el porcentaje de predicciones correctas de todo el modelo.\n",
    "\n",
    "- Es la proporción de resultados verdaderos (tanto verdaderos positivos (VP) como verdaderos negativos (VN)) dividido entre el número total de casos examinados (verdaderos positivos, falsos positivos, verdaderos negativos, falsos negativos)\n",
    "\n",
    "$$Accurary = \\dfrac{VP+VN}{VP+FN+VN+FP}$$\n",
    "\n",
    "Observación: Si los datos están desbalanceados se debe revisar con cuidado, ya que el rendimiento general puede ser alto, pero en una de las categorias o clases no se evidencian buenos resultados. Veamos el siguiente ejemplo\n",
    "\n",
    "<br>\n",
    "<center><img src=\"https://github.com/Fabian830348/cursos/blob/master/Imagen/confusión_ej1.PNG?raw=true\" alt=\"centered image\" width=\"600\" height=\"400\"></center>\n",
    "<br>\n",
    "\n",
    "- Se está detectando *spam* y el rendimiento del modelo es $94\\%$. Sin embargo, el *recall* es de solo el $16\\%$ que es la clase que quiero detectar\n",
    "\n",
    "<FONT SIZE=5 COLOR=\"green\"> 2. Recall (sensibilidad) </FONT>\n",
    "\n",
    "Es el porcentaje de los casos positivos reales que fueron detectados correctamente por el modelo. Es decir es la tasa de verdaderos positivos o **True Positive Rate (TPR)**.\n",
    "\n",
    "$$recall = \\dfrac{VP}{VP+FN}$$\n",
    "\n",
    "- *En el área de la salud se dice que la sensibilidad o recall es la capacidad de de poder detectar correctamente la enfermedad entre los enfermos*\n",
    "\n",
    "\n",
    "- El *recall* prioriza la detección de los casos positivos. Es conveniente usarlo cuando los falsos negativos resultan costosos para el contexto.\n",
    "\n",
    "- **Observaciones**: ¿Cuándo usar esta métrica?\n",
    "   \n",
    "- Se usa si los falsos negativos son inaceptables en el contexto.\n",
    "\n",
    "   - **Diagnóstico médico:** Mejor detectar a más pacientes enfermos, aunque haya falsos positivos.\n",
    "\n",
    "   - **Sistemas de seguridad:** Mejor marcar posibles amenazas, aunque algunas sean erróneas.\n",
    "\n",
    "   - **Reconocimiento facial en aeropuertos:** Detectar terroristas aunque algunos pasajeros inocentes sean revisados.\n",
    "\n",
    "- No se usa si los falsos positivos dan problema en el contexto.\n",
    "\n",
    "   - **Detección de fraude:** No se puede marcar muchas transacciones legítimas como fraude.\n",
    "\n",
    "   - **Clasificación de correos spam:** No queremos que correos importantes terminen en spam.\n",
    "\n",
    "<FONT SIZE=5 COLOR=\"green\"> 3. Precision (Precisión) </FONT>\n",
    "\n",
    "- Es la proporción de verdaderos positivos dividido entre los resultados etiquetados como positivos.\n",
    "\n",
    "- Indica qué tan confiables son las predicciones positivas de un modelo de clasificación. Muy útil cuando los Falsos Positivos (FP) son costosos y se quiere evitar predicciones incorrectas de la clase positiva.\n",
    "\n",
    "$$Precision = \\dfrac{VP}{VP+FP}$$\n",
    "\n",
    "<br>\n",
    "<center><img src=\"https://github.com/Fabian830348/cursos/blob/master/Imagen/confusión_ej2.PNG?raw=true\" alt=\"centered image\" width=\"600\" height=\"400\"></center>\n",
    "<br>\n",
    "\n",
    "- Esta métrica no funciona bien si los datos están desbalanceados.\n",
    "\n",
    "- No es útil si los falsos negativos (FN) son más graves que los falsos positivos. Por ejemplo, en detección de terremotos, es preferible dar muchas alertas (FP) antes que ignorar un sismo real (FN).\n",
    "\n",
    "<FONT SIZE=5 COLOR=\"green\"> 4. Especifity (Especificidad) </FONT>\n",
    "\n",
    "- Es la proporción de casos negativos que fueron correctamente identificadas por el algoritmo. Es decir, es la tasa de  Verdaderos Negativos.\n",
    "\n",
    "$$Especifity = \\dfrac{VN}{VN+FP}$$\n",
    "\n",
    "*En el area de la salud se dice que la especificidad es la capacidad de poder identificar los casos de pacientes sanos entre todos los sanos*\n",
    "\n",
    "- **Ventajas de la Especificidad**\n",
    "\n",
    "   - Minimiza los falsos positivos (FP). Es clave cuando un falso positivo tiene consecuencias graves, como una sanción injusta. Por ejemplo, en la detección de terrorismo, se queremos marcar inocentes como sospechosos.\n",
    "   - Ideal en sistemas donde una decisión errónea tiene altos costo Por ejemplo: en juicios legales, es preferible evitar condenar a inocentes (baja FP), aunque algunos culpables escapen.\n",
    "\n",
    "- **Desventajas de la Especificidad**\n",
    "\n",
    "  - No considera los falsos negativos (FN). Un modelo con alta especificidad puede fallar en detectar muchos casos positivos. Por ejemplo: Si un test de cáncer prioriza especificidad sobre sensibilidad, muchos pacientes enfermos podrían quedar sin diagnóstico.\n",
    "\n",
    "  - No es útil en detección temprana de enfermedades o fraudes. En casos donde es crítico detectar todos los positivos, la especificidad puede ser menos importante que el recall. Ejemplo: En detección de fraude bancario, preferimos marcar algunos falsos positivos que perder fraudes reales.\n",
    "  \n",
    "  - No funciona bien si la clase negativa es mucho más frecuente. En un dataset desbalanceado, la especificidad puede parecer alta simplemente porque hay muchos negativos.\n",
    "\n",
    "<FONT SIZE=5 COLOR=\"green\"> 5. F1-Score </FONT>\n",
    "\n",
    "- Esta una métrica muy empleada porque nos resume la precisión y sensibilidad en una sola métrica, es decir, combina a precision con recall. Por ello es de gran utilidad cuando la distribución de las clases es desigual, por ejemplo cuando el número de pacientes con una condición es del 15% y el otro es 85%.\n",
    "\n",
    "- Es la media armónica de precision y recall. Esto implica que penaliza valores muy dispares entre estas métricas\n",
    "\n",
    "$$F1 = \\dfrac{2*precision*recall}{precision+recall} $$\n",
    "\n",
    "$$ F1= \\dfrac{2}{ \\dfrac{1}{precision}+\\dfrac{1}{recall}} $$\n",
    "\n",
    "- **Ventajas del F1-Score**\n",
    "\n",
    "   - Equilibra precisión y recall. Es útil cuando una métrica es mucho más alta que la otra. Evita que un modelo con alta precisión y bajo recall o alto recall y baja precisión tenga una puntuación engañosa.\n",
    "\n",
    "   - Funciona bien en datos desbalanceados. Accuracy no es útil en datasets desbalanceados, pero F1-score sí.\n",
    "\n",
    "   - Fácil de interpretar y comparar entre modelos.\n",
    "\n",
    "Si un modelo tiene mejor F1-score que otro, en general es superior.\n",
    "\n",
    "- **Desventajas del F1-Score**\n",
    "\n",
    "   - No diferencia entre falsos positivos y falsos negativos. En algunos casos, los FN son más costosos que los FP (ej. detección de cáncer). En otros casos, los FP son más costosos que los FN (ej. detección de fraude bancario).\n",
    "\n",
    "   - No considera la especificidad.  No mide qué tan bien el modelo predice los negativos correctamente.\n",
    "\n",
    "   - Puede ser engañoso en ciertos casos. Si los costos de FP y FN son muy diferentes, es mejor analizar precisión y recall por separado.\n",
    "\n",
    "\n",
    "***Algunas observaciones (resumen)***:\n",
    "\n",
    "**Alta precisión y alto recall**: el modelo de Machine Learning escogido maneja perfectamente esa clase.\n",
    "\n",
    "**Alta precisión y bajo recall**: el modelo de Machine Learning escogido no detecta la clase muy bien, pero cuando lo hace es altamente confiable.\n",
    "\n",
    "**Baja precisión y alto recall**: El modelo de Machine Learning escogido detecta bien la clase,  pero también incluye muestras de la otra clase.\n",
    "\n",
    "**Baja precisión y bajo recall**: El modelo de Machine Learning escogido no logra clasificar la clase correctamente.\n",
    "\n",
    "- Cuando se tiene un conjunto de datos con clases **desbalanceadas**, suele ocurrir que obtenemos un alto valor de precisión en la clase mayoritaria y un bajo recall en la clase minoritaria.  En el campo de la salud esta circunstancia es particularmente frecuente y se debe recurrir al balanceo de clases.\n",
    "\n",
    "- La precisión es un gran estadístico, pero es útil únicamente cuando se tienen conjuntos de datos simétricos (la cantidad de casos de la clase 1 y de las clase 2 tienen magnitudes similares)\n",
    "\n",
    "- El indicador F1 de la matriz de confusión es útil si se tiene una distribución de clases desigual.\n",
    "\n",
    "- Elija mayor precisión para conocer qué tan seguro está de los verdaderos positivos, Mientras que la sensibilidad o “Recall” le servirá para saber si no está perdiendo positivos.\n",
    "\n",
    "- Las Falsas Alarmas:  Por ejemplo,  si cree que es mejor en su caso tener falsos positivos que falsos negativos, utilice una sensibilidad alta  (Recall) , cuando la aparición de falsos negativos le resulta inaceptable pero no le importa tener falsos positivos adicionales (falsas alarmas). Un ejemplo de esto es:  Prefieres que algunas personas sanas sean etiquetadas como diabéticas en lugar de dejar a una persona diabética etiquetada como sana.\n",
    "\n",
    "- Elija precisión (precision en inglés)  si quiere estar más seguro de sus verdaderos positivos. por ejemplo, correos electrónicos no deseados.  En este caso se prefiere tener algunos correos electrónicos “no deseados” en su bandeja de entrada en lugar de tener correos electrónicos “reales” en su bandeja de SPAM.\n",
    "\n",
    "- Elija alta Especificidad si desea identificar los verdaderos negativos, o lo que es igual cuando no desea falsos positivos. Por ejemplo conductores y las pruebas de alcoholemia\n",
    "\n",
    "Referencia : https://www.juanbarrios.com/la-matriz-de-confusion-y-sus-metricas/\n",
    "\n"
   ]
  },
  {
   "cell_type": "markdown",
   "metadata": {
    "id": "zxP_55_YxOad"
   },
   "source": [
    "### <FONT SIZE=5 COLOR=\"magenta\"> Modelo Regresión Logística </FONT>"
   ]
  },
  {
   "cell_type": "code",
   "execution_count": 33,
   "metadata": {
    "id": "jFqWh4KFqOpt"
   },
   "outputs": [],
   "source": [
    "# definimos el modelo de regresión logística\n",
    "Reg_log = Pipeline(steps=[\n",
    "      ('preprocessor', preprocessor),\n",
    "      ('classifier', LogisticRegression())\n",
    "      ])\n",
    "Reg_log = LogisticRegression()\n",
    "# entrenamos el modelo\n",
    "Reg_log.fit(X_train,y_train)\n",
    "# se utiliza la función .predict\n",
    "y_pred_log = Reg_log.predict(X_test)"
   ]
  },
  {
   "cell_type": "code",
   "execution_count": 34,
   "metadata": {
    "colab": {
     "base_uri": "https://localhost:8080/",
     "height": 698
    },
    "executionInfo": {
     "elapsed": 294,
     "status": "ok",
     "timestamp": 1752919211493,
     "user": {
      "displayName": "FABIAN SANCHEZ SALAZAR",
      "userId": "15142555099295306735"
     },
     "user_tz": 300
    },
    "id": "Q0M86qzQHQR-",
    "outputId": "425cb128-531e-4202-c5a8-3d8fdfe1a88e"
   },
   "outputs": [
    {
     "data": {
      "text/html": [
       "<div>\n",
       "<style scoped>\n",
       "    .dataframe tbody tr th:only-of-type {\n",
       "        vertical-align: middle;\n",
       "    }\n",
       "\n",
       "    .dataframe tbody tr th {\n",
       "        vertical-align: top;\n",
       "    }\n",
       "\n",
       "    .dataframe thead th {\n",
       "        text-align: right;\n",
       "    }\n",
       "</style>\n",
       "<table border=\"1\" class=\"dataframe\">\n",
       "  <thead>\n",
       "    <tr style=\"text-align: right;\">\n",
       "      <th></th>\n",
       "      <th>metrics</th>\n",
       "      <th>values</th>\n",
       "    </tr>\n",
       "  </thead>\n",
       "  <tbody>\n",
       "    <tr>\n",
       "      <th>0</th>\n",
       "      <td>accuracy</td>\n",
       "      <td>0.977099</td>\n",
       "    </tr>\n",
       "    <tr>\n",
       "      <th>1</th>\n",
       "      <td>recall</td>\n",
       "      <td>0.970492</td>\n",
       "    </tr>\n",
       "    <tr>\n",
       "      <th>2</th>\n",
       "      <td>specificity</td>\n",
       "      <td>1.000000</td>\n",
       "    </tr>\n",
       "    <tr>\n",
       "      <th>3</th>\n",
       "      <td>precision</td>\n",
       "      <td>1.000000</td>\n",
       "    </tr>\n",
       "    <tr>\n",
       "      <th>4</th>\n",
       "      <td>f1</td>\n",
       "      <td>0.985025</td>\n",
       "    </tr>\n",
       "  </tbody>\n",
       "</table>\n",
       "</div>"
      ],
      "text/plain": [
       "       metrics    values\n",
       "0     accuracy  0.977099\n",
       "1       recall  0.970492\n",
       "2  specificity  1.000000\n",
       "3    precision  1.000000\n",
       "4           f1  0.985025"
      ]
     },
     "execution_count": 34,
     "metadata": {},
     "output_type": "execute_result"
    },
    {
     "data": {
      "image/png": "[encoded data removed]",
      "text/plain": [
       "<Figure size 640x480 with 2 Axes>"
      ]
     },
     "metadata": {},
     "output_type": "display_data"
    }
   ],
   "source": [
    "# Evaluamos el modelo\n",
    "metrics=[\"accuracy\", \"recall\" , \"specificity\", \"precision\", \"f1\"]\n",
    "# valores\n",
    "values = [accuracy_score(y_test,y_pred_log),\n",
    "          recall_score(y_test,y_pred_log),\n",
    "          specificity_score(y_test,y_pred_log),\n",
    "          precision_score(y_test,y_pred_log),\n",
    "          f1_score(y_test,y_pred_log)]\n",
    "pd.DataFrame({\"metrics\": metrics , \"values\" : values})\n",
    "# matriz de confusión\n",
    "MC= confusion_matrix(y_test, y_pred_log)\n",
    "p = sns.heatmap(pd.DataFrame(MC),                    # data.frame\n",
    "                annot=True,                          # colocar números de las cajitas\n",
    "                annot_kws = {'size':20},             # tamaño de la letra\n",
    "                cmap=\"YlOrRd\",                       # color de la letra 'Pastel1', 'Pastel1_r', 'Pastel2', 'Pastel2_r', 'PiYG', 'PiYG_r', 'PuBu'\n",
    "                fmt='g')                             # para que salgan los número no : notación científica\n",
    "plt.title('Matriz de Confusión Regresión Logística', y=1.1)\n",
    "plt.ylabel('Valores Reales')\n",
    "plt.xlabel('Predicciones')\n",
    "pd.DataFrame({\"metrics\": metrics , \"values\" : values})"
   ]
  },
  {
   "cell_type": "markdown",
   "metadata": {
    "id": "4hgqEcGaxo2q"
   },
   "source": [
    "### <FONT SIZE=5 COLOR=\"magenta\"> Modelo de Árboles de Decisión </FONT>"
   ]
  },
  {
   "cell_type": "code",
   "execution_count": 35,
   "metadata": {
    "id": "iPAcA7QsqZBR"
   },
   "outputs": [],
   "source": [
    "# definimos el modelo de árboles de decisión\n",
    "Dec_Tree = Pipeline(steps=[\n",
    "      ('preprocessor', preprocessor),\n",
    "      ('classifier', DecisionTreeClassifier())\n",
    "      ])\n",
    "# entrenamos el modelo\n",
    "Dec_Tree.fit(X_train,y_train)\n",
    "# se utiliza la función .predict\n",
    "y_pred_tree = Dec_Tree.predict(X_test)\n"
   ]
  },
  {
   "cell_type": "code",
   "execution_count": 36,
   "metadata": {
    "colab": {
     "base_uri": "https://localhost:8080/",
     "height": 698
    },
    "executionInfo": {
     "elapsed": 271,
     "status": "ok",
     "timestamp": 1752919246210,
     "user": {
      "displayName": "FABIAN SANCHEZ SALAZAR",
      "userId": "15142555099295306735"
     },
     "user_tz": 300
    },
    "id": "z1yAfQ_LHWMA",
    "outputId": "b20f8a93-2257-4809-9124-7d4966dadb54"
   },
   "outputs": [
    {
     "data": {
      "text/html": [
       "<div>\n",
       "<style scoped>\n",
       "    .dataframe tbody tr th:only-of-type {\n",
       "        vertical-align: middle;\n",
       "    }\n",
       "\n",
       "    .dataframe tbody tr th {\n",
       "        vertical-align: top;\n",
       "    }\n",
       "\n",
       "    .dataframe thead th {\n",
       "        text-align: right;\n",
       "    }\n",
       "</style>\n",
       "<table border=\"1\" class=\"dataframe\">\n",
       "  <thead>\n",
       "    <tr style=\"text-align: right;\">\n",
       "      <th></th>\n",
       "      <th>metrics</th>\n",
       "      <th>values</th>\n",
       "    </tr>\n",
       "  </thead>\n",
       "  <tbody>\n",
       "    <tr>\n",
       "      <th>0</th>\n",
       "      <td>accuracy</td>\n",
       "      <td>0.966921</td>\n",
       "    </tr>\n",
       "    <tr>\n",
       "      <th>1</th>\n",
       "      <td>recall</td>\n",
       "      <td>0.980328</td>\n",
       "    </tr>\n",
       "    <tr>\n",
       "      <th>2</th>\n",
       "      <td>specificity</td>\n",
       "      <td>0.920455</td>\n",
       "    </tr>\n",
       "    <tr>\n",
       "      <th>3</th>\n",
       "      <td>precision</td>\n",
       "      <td>0.977124</td>\n",
       "    </tr>\n",
       "    <tr>\n",
       "      <th>4</th>\n",
       "      <td>f1</td>\n",
       "      <td>0.978723</td>\n",
       "    </tr>\n",
       "  </tbody>\n",
       "</table>\n",
       "</div>"
      ],
      "text/plain": [
       "       metrics    values\n",
       "0     accuracy  0.966921\n",
       "1       recall  0.980328\n",
       "2  specificity  0.920455\n",
       "3    precision  0.977124\n",
       "4           f1  0.978723"
      ]
     },
     "execution_count": 36,
     "metadata": {},
     "output_type": "execute_result"
    },
    {
     "data": {
      "image/png": "[encoded data removed]",
      "text/plain": [
       "<Figure size 640x480 with 2 Axes>"
      ]
     },
     "metadata": {},
     "output_type": "display_data"
    }
   ],
   "source": [
    "# Evaluamos el modelo\n",
    "metrics=[\"accuracy\", \"recall\" , \"specificity\", \"precision\", \"f1\"]\n",
    "# valores\n",
    "values = [accuracy_score(y_test,y_pred_tree),\n",
    "          recall_score(y_test,y_pred_tree),\n",
    "          specificity_score(y_test,y_pred_tree),\n",
    "          precision_score(y_test,y_pred_tree),\n",
    "          f1_score(y_test,y_pred_tree)]\n",
    "pd.DataFrame({\"metrics\": metrics , \"values\" : values})\n",
    "# matriz de confusión\n",
    "MC= confusion_matrix(y_test, y_pred_tree)\n",
    "p = sns.heatmap(pd.DataFrame(MC),                    # data.frame\n",
    "                annot=True,                          # colocar números de las cajitas\n",
    "                annot_kws = {'size':20},             # tamaño de la letra\n",
    "                cmap=\"YlOrRd\",                       # color de la letra 'Pastel1', 'Pastel1_r', 'Pastel2', 'Pastel2_r', 'PiYG', 'PiYG_r', 'PuBu'\n",
    "                fmt='g')                             # para que salgan los número no : notación científica\n",
    "plt.title('Matriz de Confusión Árboles de Decisión', y=1.1)\n",
    "plt.ylabel('Valores Reales')\n",
    "plt.xlabel('Predicciones')\n",
    "pd.DataFrame({\"metrics\": metrics , \"values\" : values})"
   ]
  },
  {
   "cell_type": "markdown",
   "metadata": {
    "id": "qTOQwJKIImCH"
   },
   "source": [
    "## <FONT SIZE=5 COLOR=\"blue\"> 1.6. Guardar el modelo y hacer predicciones </FONT>\n",
    "\n",
    "Supongamos que ya tenemos un buen modelo (faltaría hacer validación cruzada y búsqueda en grilla).\n",
    "\n",
    "- Lo vamos a guardar\n",
    "\n",
    "- Hacemos predicciones"
   ]
  },
  {
   "cell_type": "code",
   "execution_count": 37,
   "metadata": {
    "id": "0XQ759pO58dw"
   },
   "outputs": [],
   "source": [
    "#para guardar\n",
    "import joblib\n",
    "from joblib                             import dump, load"
   ]
  },
  {
   "cell_type": "code",
   "execution_count": 38,
   "metadata": {
    "colab": {
     "base_uri": "https://localhost:8080/"
    },
    "executionInfo": {
     "elapsed": 25,
     "status": "ok",
     "timestamp": 1752919758111,
     "user": {
      "displayName": "FABIAN SANCHEZ SALAZAR",
      "userId": "15142555099295306735"
     },
     "user_tz": 300
    },
    "id": "XtPC3IxNKCjQ",
    "outputId": "ca08af2f-383c-4f8c-db17-30dd0c04d73c"
   },
   "outputs": [
    {
     "data": {
      "text/plain": [
       "['modelo_Dec_Tree.pkl']"
      ]
     },
     "execution_count": 38,
     "metadata": {},
     "output_type": "execute_result"
    }
   ],
   "source": [
    "joblib.dump(Dec_Tree, 'modelo_Dec_Tree.pkl')"
   ]
  },
  {
   "cell_type": "code",
   "execution_count": null,
   "metadata": {
    "id": "xGwIJs_EKRy8"
   },
   "outputs": [],
   "source": [
    "Dec_Tree_cargado = joblib.load('modelo_Dec_Tree.pkl')\n",
    "# Ya puedes usarlo para predecir\n",
    "y_pred = Dec_Tree_cargado.predict(X_test)"
   ]
  },
  {
   "cell_type": "markdown",
   "metadata": {
    "id": "0GLJaRFLKhmA"
   },
   "source": [
    "Vamos a hacer una predicción"
   ]
  },
  {
   "cell_type": "markdown",
   "metadata": {
    "id": "G14kTZjeKxRM"
   },
   "source": [
    "- 'reports' = 6\n",
    "\n",
    "- 'age' = 32.4\n",
    "\n",
    "- 'income' = 2.9\n",
    "\n",
    "- 'share' = 0.0039\n",
    "\n",
    "- 'expenditure' = 16\n",
    "\n",
    "- 'owner' = no\n",
    "\n",
    "- 'selfemp' = si\n",
    "\n",
    "- 'dependents' = 2\n",
    "\n",
    "- 'months' = 24\n",
    "\n",
    "- 'majorcards' = 1\n",
    "\n",
    "- 'active' = 20"
   ]
  },
  {
   "cell_type": "code",
   "execution_count": null,
   "metadata": {
    "id": "rV-tshpBKwZX"
   },
   "outputs": [],
   "source": [
    "X_new = [6, 32.4, 2.9, 0.0039, 16 , 0 , 1 , 2 , 24 , 1 , 20]"
   ]
  },
  {
   "cell_type": "code",
   "execution_count": null,
   "metadata": {
    "id": "ZE771gQhN10B"
   },
   "outputs": [],
   "source": [
    "columnas = ['reports', 'age', 'income', 'share', 'expenditure',\n",
    "            'owner', 'selfemp', 'dependents', 'months', 'majorcards', 'active']"
   ]
  },
  {
   "cell_type": "code",
   "execution_count": null,
   "metadata": {
    "id": "0dWpPQpcM1vz"
   },
   "outputs": [],
   "source": [
    "# convertir X_new en dataframe\n",
    "X_new_df = pd.DataFrame([X_new], columns=columnas)"
   ]
  },
  {
   "cell_type": "code",
   "execution_count": null,
   "metadata": {
    "colab": {
     "base_uri": "https://localhost:8080/"
    },
    "executionInfo": {
     "elapsed": 28,
     "status": "ok",
     "timestamp": 1752920965199,
     "user": {
      "displayName": "FABIAN SANCHEZ SALAZAR",
      "userId": "15142555099295306735"
     },
     "user_tz": 300
    },
    "id": "jUNa_-ciMf9c",
    "outputId": "c4aa9e65-2e1c-4100-e3fa-e72613bf1613"
   },
   "outputs": [],
   "source": [
    "Dec_Tree_cargado.predict(X_new_df)"
   ]
  },
  {
   "cell_type": "markdown",
   "metadata": {
    "id": "mx_janPZO4ge"
   },
   "source": [
    "## <FONT SIZE=5 COLOR=\"blue\"> 1.7. Validación cruzada </FONT>\n"
   ]
  },
  {
   "cell_type": "code",
   "execution_count": null,
   "metadata": {
    "colab": {
     "base_uri": "https://localhost:8080/"
    },
    "executionInfo": {
     "elapsed": 104,
     "status": "ok",
     "timestamp": 1752921214260,
     "user": {
      "displayName": "FABIAN SANCHEZ SALAZAR",
      "userId": "15142555099295306735"
     },
     "user_tz": 300
    },
    "id": "ex5S8AnqPszG",
    "outputId": "d025f446-49cb-4a9d-d933-6e55175561c6"
   },
   "outputs": [],
   "source": [
    "from sklearn.model_selection import cross_val_score\n",
    "\n",
    "# Evaluar con validación cruzada de 5 particiones (5-fold)\n",
    "scores = cross_val_score(Dec_Tree,\n",
    "                         X,\n",
    "                         y,\n",
    "                         cv=5,\n",
    "                         scoring='accuracy')\n",
    "\n",
    "print(\"Accuracy en cada fold:\", scores)\n",
    "print(\"Accuracy promedio:\", scores.mean())"
   ]
  },
  {
   "cell_type": "code",
   "execution_count": null,
   "metadata": {
    "colab": {
     "base_uri": "https://localhost:8080/"
    },
    "executionInfo": {
     "elapsed": 5633,
     "status": "ok",
     "timestamp": 1752921410275,
     "user": {
      "displayName": "FABIAN SANCHEZ SALAZAR",
      "userId": "15142555099295306735"
     },
     "user_tz": 300
    },
    "id": "ovOrGx6IP8Qz",
    "outputId": "26ffbc94-90ac-485d-fbf8-fe25666f40a5"
   },
   "outputs": [],
   "source": [
    "# definir los hiperparámetros\n",
    "param_grid = {\n",
    "    'classifier__max_depth'        : [3, 5, 10, None],\n",
    "    'classifier__min_samples_split': [2, 5, 10],\n",
    "    'classifier__min_samples_leaf' : [1, 2, 4],\n",
    "    'classifier__criterion'        : ['gini', 'entropy']\n",
    "}\n",
    "\n",
    "# definir la grilla\n",
    "grid_search = GridSearchCV(\n",
    "                          Dec_Tree,                 # pipeline con preprocesamiento y clasificador\n",
    "                          param_grid,               # la grilla de hiperparámetros\n",
    "                          cv=5,                     # validación cruzada de 5 folds\n",
    "                          scoring='accuracy'       # métrica a optimizar\n",
    ")\n",
    "\n",
    "grid_search.fit(X, y)\n",
    "\n",
    "print(\"Mejores hiperparámetros encontrados:\")\n",
    "print(grid_search.best_params_)\n",
    "\n",
    "print(\"Mejor accuracy obtenido:\")\n",
    "print(grid_search.best_score_)"
   ]
  }
 ],
 "metadata": {
  "colab": {
   "provenance": []
  },
  "kernelspec": {
   "display_name": "base",
   "language": "python",
   "name": "python3"
  },
  "language_info": {
   "codemirror_mode": {
    "name": "ipython",
    "version": 3
   },
   "file_extension": ".py",
   "mimetype": "text/x-python",
   "name": "python",
   "nbconvert_exporter": "python",
   "pygments_lexer": "ipython3",
   "version": "3.9.13"
  }
 },
 "nbformat": 4,
 "nbformat_minor": 0
}
